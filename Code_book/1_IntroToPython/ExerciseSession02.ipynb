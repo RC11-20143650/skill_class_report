{
 "cells": [
  {
   "cell_type": "markdown",
   "id": "16da68fc",
   "metadata": {},
   "source": [
    "## Exercise 1 - Padovan sequence"
   ]
  },
  {
   "cell_type": "code",
   "execution_count": 42,
   "id": "672c2203",
   "metadata": {
    "scrolled": false
   },
   "outputs": [
    {
     "name": "stdout",
     "output_type": "stream",
     "text": [
      "How many numbers you want?17\n",
      "1\n",
      "1\n",
      "1\n",
      "2\n",
      "2\n",
      "3\n",
      "4\n",
      "5\n",
      "7\n",
      "9\n",
      "12\n",
      "16\n",
      "21\n",
      "28\n",
      "37\n",
      "49\n",
      "65\n"
     ]
    }
   ],
   "source": [
    "temp = input(\"How many numbers you want?\")\n",
    "n = int(temp)\n",
    "\n",
    "temp0 = 1\n",
    "temp1 = 1\n",
    "temp2 = 1\n",
    "for i in range(n):\n",
    "    if i <= 2:\n",
    "        print(\"1\")\n",
    "    else:\n",
    "        tempN = temp0 + temp1\n",
    "        temp0 = temp1\n",
    "        temp1 = temp2\n",
    "        temp2 = tempN\n",
    "        print(tempN)"
   ]
  },
  {
   "cell_type": "markdown",
   "id": "0b1a634d",
   "metadata": {},
   "source": [
    "## Exercise 2 - ASCII Art"
   ]
  },
  {
   "cell_type": "code",
   "execution_count": 106,
   "id": "f5618c80",
   "metadata": {},
   "outputs": [],
   "source": [
    "tempNone = \"\\n\"\n",
    "asciiArt = \"                   \\  |  /         ___________                       ____________  \\ \\_# /         |  ___      |       _________     |            |  \\  #/          | |   |     |      | = = = = |    | |   |   |  |   \\\\#           | |`v'|     |      |         |    |            |    \\#  //       |  --- ___  |      | |  || | |    | |   |   |  |     #_//        |     |   | |      |         |    |            |  \\\\ #_/_______  |     |   | |      | |  || | |    | |   |   |  |   \\\\# /_____/ \\ |      ---  |      |         |    |            |    \\# |+ ++|  | |  |^^^^^^| |      | |  || | |    |            |    \\# |+ ++|  | |  |^^^^^^| |      | |  || | | ^^^|    (^^^^^) |^^^^^#^| H  |_ |^|  | |||| | |^^^^^^|         |    |    ( ||| ) |     # ^^^^^^    |  | |||| | |      | ||||||| |    ^^^^^^^^^^^^^________/  /_____ |  | |||| | |      | ||||||| |         `v'-                      ^^^^^^^^^^^^^      | ||||||| |          || |`.      (__)    (__)                          ( )                        (oo)    (oo)                       /---V                  /-------\\/      \\/ --------\\             * |  |                 / |     ||        ||_______| \\                                  *  ||W---||        ||      ||  *                                    ^^    ^^        ^^      ^^                        \""
   ]
  },
  {
   "cell_type": "code",
   "execution_count": 112,
   "id": "4e6f460a",
   "metadata": {},
   "outputs": [
    {
     "name": "stdout",
     "output_type": "stream",
     "text": [
      "                   \\  |  /         ___________                   \n",
      "    ____________  \\ \\_# /         |  ___      |       _________  \n",
      "   |            |  \\  #/          | |   |     |      | = = = = | \n",
      "   | |   |   |  |   \\#           | |`v'|     |      |         |  \n",
      "  |            |    \\#  //       |  --- ___  |      | |  || | |  \n",
      "  | |   |   |  |     #_//        |     |   | |      |         |  \n",
      "  |            |  \\ #_/_______  |     |   | |      | |  || | |   \n",
      " | |   |   |  |   \\# /_____/ \\ |      ---  |      |         |    \n",
      "|            |    \\# |+ ++|  | |  |^^^^^^| |      | |  || | |    \n",
      "|            |    \\# |+ ++|  | |  |^^^^^^| |      | |  || | | ^^^\n",
      "|    (^^^^^) |^^^^^#^| H  |_ |^|  | |||| | |^^^^^^|         |    \n",
      "|    ( ||| ) |     # ^^^^^^    |  | |||| | |      | ||||||| |    \n",
      "^^^^^^^^^^^^^________/  /_____ |  | |||| | |      | ||||||| |    \n",
      "     `v'-                      ^^^^^^^^^^^^^      | ||||||| |    \n",
      "      || |`.      (__)    (__)                          ( )      \n",
      "                  (oo)    (oo)                       /---V       \n",
      "           /-------\\/      \\/ --------\\             * |  |       \n",
      "          / |     ||        ||_______| \\                         \n",
      "         *  ||W---||        ||      ||  *                        \n",
      "            ^^    ^^        ^^      ^^                        \n",
      "\n"
     ]
    }
   ],
   "source": [
    "str_list = list(asciiArt)\n",
    "tempn = len(asciiArt)\n",
    "X = -1\n",
    "while X < tempn:\n",
    "    X = X + 66\n",
    "    str_list.insert(X,tempNone)\n",
    "    asciiArt_tempNone = \"\".join(str_list)\n",
    "print(asciiArt_tempNone)"
   ]
  },
  {
   "cell_type": "markdown",
   "id": "bdaa9695",
   "metadata": {},
   "source": [
    "## Exercise 3 - christmas tree"
   ]
  },
  {
   "cell_type": "code",
   "execution_count": 4,
   "id": "5f15c1f0",
   "metadata": {},
   "outputs": [
    {
     "name": "stdout",
     "output_type": "stream",
     "text": [
      "Please enter the free hight:5\n",
      "     *\n",
      "    ***\n",
      "   *****\n",
      "  *******\n",
      " *********\n",
      "     |\n"
     ]
    }
   ],
   "source": [
    "treeHeight00 = input(\"Please enter the free hight:\")\n",
    "treeHeight01 = int(treeHeight00)\n",
    "for i in range(treeHeight01):\n",
    "    print(\" \" * (treeHeight01 - i) + \"*\" * (1 + 2*i))\n",
    "print(\" \" * treeHeight01 + \"|\")\n",
    "    "
   ]
  }
 ],
 "metadata": {
  "kernelspec": {
   "display_name": "Python 3",
   "language": "python",
   "name": "python3"
  },
  "language_info": {
   "codemirror_mode": {
    "name": "ipython",
    "version": 3
   },
   "file_extension": ".py",
   "mimetype": "text/x-python",
   "name": "python",
   "nbconvert_exporter": "python",
   "pygments_lexer": "ipython3",
   "version": "3.8.8"
  }
 },
 "nbformat": 4,
 "nbformat_minor": 5
}
