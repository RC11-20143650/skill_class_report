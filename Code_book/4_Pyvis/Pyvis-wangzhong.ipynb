{
 "cells": [
  {
   "cell_type": "code",
   "execution_count": 85,
   "metadata": {},
   "outputs": [],
   "source": [
    "import networkx as nx\n",
    "import csv\n",
    "import matplotlib.pyplot as plt\n",
    "from pyvis.network import Network"
   ]
  },
  {
   "cell_type": "code",
   "execution_count": 86,
   "metadata": {},
   "outputs": [],
   "source": [
    "class Sanitaire:\n",
    "    def __init__(self, Ligne, Station, Public, AccesBouton, Emplacement, info):\n",
    "        self.Ligne = Ligne\n",
    "        self.Station = Station\n",
    "        self.Public = Public\n",
    "        self.AccesBouton = AccesBouton\n",
    "        self.Emplacement = Emplacement\n",
    "        self.info = info"
   ]
  },
  {
   "cell_type": "code",
   "execution_count": 87,
   "metadata": {},
   "outputs": [
    {
     "name": "stdout",
     "output_type": "stream",
     "text": [
      "['Ligne', 'Station', 'Public', 'AccesBouton', 'Emplacement']\n",
      "['14', 'Bibliotheque Francois Mitterrand', 'oui', 'oui', 'Hors zone controlee station']\n"
     ]
    }
   ],
   "source": [
    "with open(\"C:/Users/qq809/Desktop/SkillsClasses-main/3_Classes+Networks/sanitaires-reseau-ratp.csv\") as csvfile:\n",
    "    reader = csv.reader(csvfile)\n",
    "    print(next(reader))\n",
    "    print(next(reader))"
   ]
  },
  {
   "cell_type": "code",
   "execution_count": 88,
   "metadata": {},
   "outputs": [
    {
     "name": "stdout",
     "output_type": "stream",
     "text": [
      "48\n"
     ]
    }
   ],
   "source": [
    "with open(\"C:/Users/qq809/Desktop/SkillsClasses-main/3_Classes+Networks/sanitaires-reseau-ratp.csv\",'r',encoding='mac_roman',newline='') as csvfile:\n",
    "    reader = csv.reader(csvfile)\n",
    "    rows = 0\n",
    "    for r in reader:\n",
    "        rows +=1 \n",
    "    print(rows)"
   ]
  },
  {
   "cell_type": "code",
   "execution_count": 89,
   "metadata": {},
   "outputs": [],
   "source": [
    "Sanitaires = []\n",
    "with open(\"C:/Users/qq809/Desktop/SkillsClasses-main/3_Classes+Networks/sanitaires-reseau-ratp.csv\",'r',encoding='mac_roman',newline='') as csvfile:\n",
    "    reader = csv.DictReader(csvfile)\n",
    "    for row in reader:\n",
    "        Ligne = row['Ligne']\n",
    "        Station = row['Station']\n",
    "        Public = row['Public']\n",
    "        AccesBouton = row['AccesBouton']\n",
    "        Emplacement = row['Emplacement']\n",
    "        info = 'Public:' + Public + '; ' + 'AccesBouton:' + AccesBouton\n",
    "        Sanitaires.append(Sanitaire(Ligne, Station, Public, AccesBouton, Emplacement, info))"
   ]
  },
  {
   "cell_type": "code",
   "execution_count": 90,
   "metadata": {},
   "outputs": [
    {
     "name": "stdout",
     "output_type": "stream",
     "text": [
      "Public:oui; AccesBouton:oui\n"
     ]
    }
   ],
   "source": [
    "print(Sanitaires[0].info)"
   ]
  },
  {
   "cell_type": "code",
   "execution_count": 91,
   "metadata": {},
   "outputs": [],
   "source": [
    "SanitaireGraph = nx.Graph()\n",
    "SanitaireSubset = Sanitaires[0:48]"
   ]
  },
  {
   "cell_type": "code",
   "execution_count": 92,
   "metadata": {},
   "outputs": [
    {
     "name": "stdout",
     "output_type": "stream",
     "text": [
      "['14', 'A', '13', 'B', '5', '1', '7', '10', '12']\n"
     ]
    }
   ],
   "source": [
    "temp = []\n",
    "for f in SanitaireSubset:\n",
    "    temp.append(f.Ligne)\n",
    "Line = []\n",
    "for t in temp:\n",
    "    if t not in Line:\n",
    "        Line.append(t) \n",
    "print(Line)"
   ]
  },
  {
   "cell_type": "code",
   "execution_count": 93,
   "metadata": {},
   "outputs": [
    {
     "name": "stdout",
     "output_type": "stream",
     "text": [
      "['Hors zone controlee station', 'En zone controlee', 'Hors zone controlee voie publique']\n"
     ]
    }
   ],
   "source": [
    "temp1 = []\n",
    "for f in SanitaireSubset:\n",
    "    temp1.append(f.Emplacement)\n",
    "Location = []\n",
    "for t in temp1:\n",
    "    if t not in Location:\n",
    "        Location.append(t) \n",
    "print(Location)"
   ]
  },
  {
   "cell_type": "code",
   "execution_count": 94,
   "metadata": {},
   "outputs": [],
   "source": [
    "SanitaireGraph.add_node(\"Ligne\",size=10,color = 'purple' )\n",
    "for f in Line:\n",
    "    SanitaireGraph.add_edge(f,\"Ligne\",value=10,color='red')  \n",
    "    \n",
    "for f1 in SanitaireSubset:\n",
    "    for f2 in Line:       \n",
    "        if f1.Ligne == f2:\n",
    "            SanitaireGraph.add_edge(f1.Station,f2,value=5,color='turquoise') \n",
    "            \n",
    "for t in SanitaireSubset:\n",
    "    for f in Location:\n",
    "        if t.Emplacement == f:\n",
    "            SanitaireGraph.add_edge(t.Station,f,value=5,color='gray')\n",
    "    SanitaireGraph.add_node(t.Station,title = info, size=20,color=\"blue\") "
   ]
  },
  {
   "cell_type": "code",
   "execution_count": 95,
   "metadata": {},
   "outputs": [
    {
     "name": "stdout",
     "output_type": "stream",
     "text": [
      "{'Ligne': 0.17307692307692307, '14': 0.17307692307692307, 'A': 0.3269230769230769, '13': 0.057692307692307696, 'B': 0.23076923076923078, '5': 0.038461538461538464, '1': 0.038461538461538464, '7': 0.038461538461538464, '10': 0.038461538461538464, '12': 0.038461538461538464, 'Bibliotheque Francois Mitterrand': 0.038461538461538464, 'Cour Saint-Emilion': 0.038461538461538464, 'Saint Lazare': 0.038461538461538464, 'Charles de Gaulle - Etoile': 0.07692307692307693, 'Chatelet': 0.057692307692307696, 'Nanterre - Prefecture': 0.038461538461538464, \"Noisy-le-Grand - Mont d'Est\": 0.057692307692307696, 'Saint-Maur - Creteil': 0.038461538461538464, \"Val d'Europe\": 0.038461538461538464, 'Les Agnettes': 0.038461538461538464, 'Bercy': 0.038461538461538464, 'Gare de Lyon': 0.07692307692307693, 'Olympiades': 0.038461538461538464, 'Auber': 0.038461538461538464, 'Nanterre - Universite': 0.038461538461538464, 'Rueil-Malmaison': 0.038461538461538464, 'Saint-Germain-en-Laye': 0.057692307692307696, 'Antony': 0.038461538461538464, 'Arcueil Cachan': 0.038461538461538464, 'Bourg-la-Reine': 0.038461538461538464, 'Cite Universitaire': 0.038461538461538464, 'Massy - Palaiseau': 0.038461538461538464, 'Saint-Remy-les-Chevreuse': 0.038461538461538464, 'Bobigny - Pablo Picasso': 0.038461538461538464, 'Marne-la-Vallee - Chessy': 0.038461538461538464, 'Nogent-sur-Marne': 0.038461538461538464, 'Gentilly': 0.038461538461538464, 'Robinson': 0.038461538461538464, 'Villejuif - Louis Aragon': 0.038461538461538464, 'Asnieres-Gennevilliers - Les Courtilles': 0.038461538461538464, 'Pyramides': 0.038461538461538464, 'Nanterre - Ville': 0.038461538461538464, 'Laplace': 0.038461538461538464, 'Cluny - La Sorbonne': 0.038461538461538464, 'Concorde': 0.038461538461538464, 'Madeleine': 0.038461538461538464, 'La Defense (Grande Arche)': 0.038461538461538464, 'Nation': 0.038461538461538464, 'Denfert-Rochereau': 0.038461538461538464, 'Gif-sur-Yvette': 0.038461538461538464, 'Hors zone controlee station': 0.3653846153846154, 'En zone controlee': 0.3653846153846154, 'Hors zone controlee voie publique': 0.13461538461538464}\n"
     ]
    }
   ],
   "source": [
    "centrality = nx.degree_centrality(SanitaireGraph)\n",
    "print(centrality)"
   ]
  },
  {
   "cell_type": "code",
   "execution_count": 98,
   "metadata": {},
   "outputs": [],
   "source": [
    "SanitaireGraph.add_node(\"Ligne\",size=100,color = 'purple' )\n",
    "for f in Line:\n",
    "    SanitaireGraph.add_node(f,title = info, size=centrality[f]*500,color=\"green\")   \n",
    "    SanitaireGraph.add_edge(f,\"Ligne\",value=centrality[f]*20,color='red')   \n",
    "    \n",
    "for t in SanitaireSubset:\n",
    "    for f in Location:\n",
    "        if t.Emplacement == f:\n",
    "            SanitaireGraph.add_edge(t.Station,f,value=5,color='gray')\n",
    "    SanitaireGraph.add_node(t.Station,title = info, size=20,color=\"blue\")  \n",
    "\n",
    "for f in Location:\n",
    "    Degree = SanitaireGraph.degree(f)\n",
    "    SanitaireGraph.add_node(f,title = info, size=centrality[f]*500,color=\"yellow\")  "
   ]
  },
  {
   "cell_type": "code",
   "execution_count": 99,
   "metadata": {},
   "outputs": [
    {
     "data": {
      "text/html": [
       "\n",
       "        <iframe\n",
       "            width=\"500px\"\n",
       "            height=\"500px\"\n",
       "            src=\"nx0.html\"\n",
       "            frameborder=\"0\"\n",
       "            allowfullscreen\n",
       "        ></iframe>\n",
       "        "
      ],
      "text/plain": [
       "<IPython.lib.display.IFrame at 0x23001ac5be0>"
      ]
     },
     "execution_count": 99,
     "metadata": {},
     "output_type": "execute_result"
    }
   ],
   "source": [
    "G = Network(notebook=True)\n",
    "G.barnes_hut()\n",
    "G.show_buttons(filter_=['physics'])\n",
    "G.from_nx(SanitaireGraph)\n",
    "G.show('nx0.html')"
   ]
  },
  {
   "cell_type": "code",
   "execution_count": null,
   "metadata": {},
   "outputs": [],
   "source": []
  }
 ],
 "metadata": {
  "kernelspec": {
   "display_name": "Python 3",
   "language": "python",
   "name": "python3"
  },
  "language_info": {
   "codemirror_mode": {
    "name": "ipython",
    "version": 3
   },
   "file_extension": ".py",
   "mimetype": "text/x-python",
   "name": "python",
   "nbconvert_exporter": "python",
   "pygments_lexer": "ipython3",
   "version": "3.8.8"
  }
 },
 "nbformat": 4,
 "nbformat_minor": 4
}
