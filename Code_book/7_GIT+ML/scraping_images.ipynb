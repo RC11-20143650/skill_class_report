{
 "cells": [
  {
   "cell_type": "code",
   "execution_count": 1,
   "id": "d6b6c422",
   "metadata": {},
   "outputs": [],
   "source": [
    "import hashlib\n",
    "from PIL import Image\n",
    "import io\n",
    "import time\n",
    "import os\n",
    "import requests"
   ]
  },
  {
   "cell_type": "code",
   "execution_count": 2,
   "id": "00f95686",
   "metadata": {},
   "outputs": [
    {
     "name": "stderr",
     "output_type": "stream",
     "text": [
      "<ipython-input-2-eb9b21924680>:4: DeprecationWarning: executable_path has been deprecated, please pass in a Service object\n",
      "  wd = webdriver.Chrome(executable_path=DRIVER_PATH)\n"
     ]
    }
   ],
   "source": [
    "from selenium import webdriver \n",
    "\n",
    "DRIVER_PATH = \"C:/Users/qq809/Desktop/PY_STH/chromedriver\"\n",
    "wd = webdriver.Chrome(executable_path=DRIVER_PATH)"
   ]
  },
  {
   "cell_type": "code",
   "execution_count": 3,
   "id": "33489040",
   "metadata": {
    "scrolled": true
   },
   "outputs": [],
   "source": [
    "#wd.get('https://google.com')\n",
    "#search_box = wd.find_element_by_css_selector('input.gLFyf')\n",
    "#search_box.send_keys('Cats')"
   ]
  },
  {
   "cell_type": "code",
   "execution_count": 4,
   "id": "8d26f790",
   "metadata": {},
   "outputs": [],
   "source": [
    "#wd.quit()"
   ]
  },
  {
   "cell_type": "code",
   "execution_count": 5,
   "id": "f2745f44",
   "metadata": {},
   "outputs": [],
   "source": [
    "def fetch_image_urls(query:str, max_links_to_fetch:int, wd:webdriver, sleep_between_interactions:int=1):\n",
    "    def scroll_to_end(wd):\n",
    "        wd.execute_script(\"window.scrollTo(0, document.body.scrollHeight);\")\n",
    "        time.sleep(sleep_between_interactions)    \n",
    "    \n",
    "    # build the google query\n",
    "    search_url = \"https://www.google.com/search?safe=off&site=&tbm=isch&source=hp&q={q}&oq={q}&gs_l=img\"\n",
    "\n",
    "    # load the page\n",
    "    wd.get(search_url.format(q=query))\n",
    "\n",
    "    image_urls = set()\n",
    "    image_count = 0\n",
    "    results_start = 0\n",
    "    while image_count < max_links_to_fetch:\n",
    "        scroll_to_end(wd)\n",
    "\n",
    "        # get all image thumbnail results\n",
    "        thumbnail_results = wd.find_elements_by_css_selector(\"img.Q4LuWd\")\n",
    "        number_results = len(thumbnail_results)\n",
    "        \n",
    "        print(f\"Found: {number_results} search results. Extracting links from {results_start}:{number_results}\")\n",
    "        \n",
    "        for img in thumbnail_results[results_start:number_results]:\n",
    "            # try to click every thumbnail such that we can get the real image behind it\n",
    "            try:\n",
    "                img.click()\n",
    "                time.sleep(sleep_between_interactions)\n",
    "            except Exception:\n",
    "                continue\n",
    "\n",
    "            # extract image urls    \n",
    "            actual_images = wd.find_elements_by_css_selector('img.n3VNCb')\n",
    "            for actual_image in actual_images:\n",
    "                if actual_image.get_attribute('src') and 'http' in actual_image.get_attribute('src'):\n",
    "                    image_urls.add(actual_image.get_attribute('src'))\n",
    "\n",
    "            image_count = len(image_urls)\n",
    "\n",
    "            if len(image_urls) >= max_links_to_fetch:\n",
    "                print(f\"Found: {len(image_urls)} image links, done!\")\n",
    "                break\n",
    "        else:\n",
    "            print(\"Found:\", len(image_urls), \"image links, looking for more ...\")\n",
    "            time.sleep(30)\n",
    "            return\n",
    "            load_more_button = wd.find_element_by_css_selector(\".mye4qd\")\n",
    "            if load_more_button:\n",
    "                wd.execute_script(\"document.querySelector('.mye4qd').click();\")\n",
    "\n",
    "        # move the result startpoint further down\n",
    "        results_start = len(thumbnail_results)\n",
    "\n",
    "    return image_urls"
   ]
  },
  {
   "cell_type": "code",
   "execution_count": 6,
   "id": "05db1e22",
   "metadata": {},
   "outputs": [],
   "source": [
    "def persist_image(folder_path:str,url:str):\n",
    "    try:\n",
    "        image_content = requests.get(url).content\n",
    "\n",
    "    except Exception as e:\n",
    "        print(f\"ERROR - Could not download {url} - {e}\")\n",
    "\n",
    "    try:\n",
    "        image_file = io.BytesIO(image_content)\n",
    "        image = Image.open(image_file).convert('RGB')\n",
    "        file_path = os.path.join(folder_path,hashlib.sha1(image_content).hexdigest()[:10] + '.jpg')\n",
    "        with open(file_path, 'wb') as f:\n",
    "            image.save(f, \"JPEG\", quality=85)\n",
    "        print(f\"SUCCESS - saved {url} - as {file_path}\")\n",
    "    except Exception as e:\n",
    "        print(f\"ERROR - Could not save {url} - {e}\")"
   ]
  },
  {
   "cell_type": "code",
   "execution_count": 7,
   "id": "bddf462e",
   "metadata": {},
   "outputs": [],
   "source": [
    "def search_and_download(search_term:str,driver_path:str,target_path='./images',number_images=150):\n",
    "    target_folder = os.path.join(target_path,'_'.join(search_term.lower().split(' ')))\n",
    "\n",
    "    if not os.path.exists(target_folder):\n",
    "        os.makedirs(target_folder)\n",
    "\n",
    "    with webdriver.Chrome(executable_path=driver_path) as wd:\n",
    "        res = fetch_image_urls(search_term, number_images, wd=wd, sleep_between_interactions=0.5)\n",
    "        \n",
    "    for elem in res:\n",
    "        persist_image(target_folder,elem)"
   ]
  },
  {
   "cell_type": "code",
   "execution_count": null,
   "id": "efa64641",
   "metadata": {
    "scrolled": true,
    "pycharm": {
     "name": "#%%\n",
     "is_executing": true
    }
   },
   "outputs": [
    {
     "name": "stderr",
     "output_type": "stream",
     "text": [
      "<ipython-input-7-53759a3b3c8b>:7: DeprecationWarning: executable_path has been deprecated, please pass in a Service object\n",
      "  with webdriver.Chrome(executable_path=driver_path) as wd:\n",
      "<ipython-input-5-6fae6806c786>:19: DeprecationWarning: find_elements_by_* commands are deprecated. Please use find_elements() instead\n",
      "  thumbnail_results = wd.find_elements_by_css_selector(\"img.Q4LuWd\")\n"
     ]
    },
    {
     "name": "stdout",
     "output_type": "stream",
     "text": [
      "Found: 100 search results. Extracting links from 0:100\n"
     ]
    },
    {
     "name": "stderr",
     "output_type": "stream",
     "text": [
      "<ipython-input-5-6fae6806c786>:33: DeprecationWarning: find_elements_by_* commands are deprecated. Please use find_elements() instead\n",
      "  actual_images = wd.find_elements_by_css_selector('img.n3VNCb')\n"
     ]
    },
    {
     "name": "stdout",
     "output_type": "stream",
     "text": [
      "Found: 150 image links, done!\n",
      "SUCCESS - saved https://encrypted-tbn0.gstatic.com/images?q=tbn:ANd9GcTzGn4YND-yfODRE4qFl6HjVMh_dOm4Xp4RPw&usqp=CAU - as ./images\\dog\\c648327a91.jpg\n",
      "SUCCESS - saved https://encrypted-tbn0.gstatic.com/images?q=tbn:ANd9GcQRFri-PT-KV7jtqZmjMZO2_1T0Uv9KsyBukA&usqp=CAU - as ./images\\dog\\964edf3e37.jpg\n",
      "SUCCESS - saved https://encrypted-tbn0.gstatic.com/images?q=tbn:ANd9GcTFogvXJutx8nRmtEpaMB_UbfAG-LgJoWA89w&usqp=CAU - as ./images\\dog\\9ac386dfb6.jpg\n",
      "SUCCESS - saved https://encrypted-tbn0.gstatic.com/images?q=tbn:ANd9GcS6Nv_eE1D69uHrAEJUNbXkgf3qfos432snuA&usqp=CAU - as ./images\\dog\\1cf75a6b0d.jpg\n",
      "SUCCESS - saved https://encrypted-tbn0.gstatic.com/images?q=tbn:ANd9GcS5B0d7_NMOC2Q_l5EDE_c5qklN1QYcaEwi_w&usqp=CAU - as ./images\\dog\\6cf9cc4ff1.jpg\n",
      "SUCCESS - saved https://www.aspca.org/sites/default/files/dog-care_dog-bite-prevention_main-image.jpg - as ./images\\dog\\6c167a0bf9.jpg\n",
      "SUCCESS - saved https://encrypted-tbn0.gstatic.com/images?q=tbn:ANd9GcR4X0fwAtbfiSwRvN3-Fk1pE1rKMsAgWjcpbA&usqp=CAU - as ./images\\dog\\731dd7bfe6.jpg\n",
      "SUCCESS - saved https://encrypted-tbn0.gstatic.com/images?q=tbn:ANd9GcTGOW2TvEHWqn3AXm3xN3EXDxtPGrfvYYD1Tw&usqp=CAU - as ./images\\dog\\d61f97fcfb.jpg\n",
      "SUCCESS - saved https://www.gannett-cdn.com/-mm-/675ba115506e09d3d7e32d07055fdcb503ebe995/c=0-2-1272-718/local/-/media/2020/05/28/USATODAY/usatsports/Reviewed.com-RvEW-24856-lead.jpg - as ./images\\dog\\464ebe6988.jpg\n",
      "SUCCESS - saved https://encrypted-tbn0.gstatic.com/images?q=tbn:ANd9GcScchBO_ddwlJMvc5zyKxmsMXhK_To6gPBSIA&usqp=CAU - as ./images\\dog\\d81deaf094.jpg\n",
      "SUCCESS - saved https://cdn.britannica.com/q:60/49/161649-050-3F458ECF/Bernese-mountain-dog-grass.jpg - as ./images\\dog\\5c641a8bde.jpg\n",
      "SUCCESS - saved https://www.purina.co.uk/sites/default/files/2020-11/Working%20Dogs%20Everything%20You%20Need%20to%20KnowTEASER.jpeg - as ./images\\dog\\d35c197a89.jpg\n",
      "SUCCESS - saved https://static01.nyt.com/images/2021/05/11/science/04TB-DOGS/04TB-DOGS-videoSixteenByNineJumbo1600.jpg - as ./images\\dog\\057912af2c.jpg\n",
      "SUCCESS - saved https://media.newyorker.com/photos/61aaa3640c1640ad4bee32dc/master/w_1600%2Cc_limit/1_StokesChautin_dogs.jpg - as ./images\\dog\\fa596e0e30.jpg\n",
      "SUCCESS - saved https://encrypted-tbn0.gstatic.com/images?q=tbn:ANd9GcTwQl1K64iaP-Scgn56GGAWJcvHGTNwpC2HPQ&usqp=CAU - as ./images\\dog\\a1b1ec375d.jpg\n",
      "SUCCESS - saved https://www.thesprucepets.com/thmb/sfuyyLvyUx636_Oq3Fw5_mt-PIc=/3760x2820/smart/filters:no_upscale()/adorable-white-pomeranian-puppy-spitz-921029690-5c8be25d46e0fb000172effe.jpg - as ./images\\dog\\4aacd195b5.jpg\n",
      "SUCCESS - saved https://encrypted-tbn0.gstatic.com/images?q=tbn:ANd9GcS4GBqo4HKgM6TUlAwEkMsDAi-MpFCjAYf2zA&usqp=CAU - as ./images\\dog\\fd205ffb74.jpg\n",
      "SUCCESS - saved https://encrypted-tbn0.gstatic.com/images?q=tbn:ANd9GcS2ksTxuvtbAEPL0aNLVL3GR-OBP0wXujxGXw&usqp=CAU - as ./images\\dog\\3fae54af96.jpg\n",
      "SUCCESS - saved https://encrypted-tbn0.gstatic.com/images?q=tbn:ANd9GcQaHUwDqX9Pr_mcHPV4pkI1gcr3VEqBOIGY-w&usqp=CAU - as ./images\\dog\\b49ef123d7.jpg\n",
      "SUCCESS - saved https://encrypted-tbn0.gstatic.com/images?q=tbn:ANd9GcQlVTf4o4vXhcmyYqKBuis-suv-ndofrSb_SQ&usqp=CAU - as ./images\\dog\\e9e7c0fdf2.jpg\n",
      "SUCCESS - saved https://encrypted-tbn0.gstatic.com/images?q=tbn:ANd9GcQu6lOipnma2VlRATgWUeZrB3R_J1l313sr-w&usqp=CAU - as ./images\\dog\\80d2b466de.jpg\n",
      "SUCCESS - saved https://encrypted-tbn0.gstatic.com/images?q=tbn:ANd9GcQ_3DMnLzynHDmb-CjwQThbYP5CIeb4JcLhNA&usqp=CAU - as ./images\\dog\\cf9d6adcdf.jpg\n",
      "SUCCESS - saved https://encrypted-tbn0.gstatic.com/images?q=tbn:ANd9GcTdjGXE_BcG6Odql7qh5GuJ34lPifZ07J9u1A&usqp=CAU - as ./images\\dog\\e3e2561ad4.jpg\n",
      "SUCCESS - saved https://encrypted-tbn0.gstatic.com/images?q=tbn:ANd9GcTGWQT5tUV3pkyiai1EnGcgrqRvVzxg7xtBHg&usqp=CAU - as ./images\\dog\\812e7b8c65.jpg\n",
      "SUCCESS - saved https://i.insider.com/5484d9d1eab8ea3017b17e29?width=600&format=jpeg&auto=webp - as ./images\\dog\\b50bad13c7.jpg\n",
      "SUCCESS - saved https://encrypted-tbn0.gstatic.com/images?q=tbn:ANd9GcQlrwAOYs4Yn5KnfNZNaqHiJnB0fkB_hjQzzA&usqp=CAU - as ./images\\dog\\20fd9c8d71.jpg\n",
      "SUCCESS - saved https://media.newyorker.com/photos/5f6cd4dbe1656cfb9de92e71/master/pass/Gupta-DogTourofHouse.jpg - as ./images\\dog\\d0040969d0.jpg\n",
      "SUCCESS - saved https://encrypted-tbn0.gstatic.com/images?q=tbn:ANd9GcTrG8FG_e9TMmNdJaSEzwQRGT2PirPRE0xhag&usqp=CAU - as ./images\\dog\\d13a786966.jpg\n",
      "SUCCESS - saved https://encrypted-tbn0.gstatic.com/images?q=tbn:ANd9GcRX2Z2a03h-1wSbdLPVpbeYHzdHAjUbJ261iQ&usqp=CAU - as ./images\\dog\\47619c353d.jpg\n",
      "SUCCESS - saved https://www.rover.com/blog/wp-content/uploads/2017/02/pug-2648774_1920.jpg - as ./images\\dog\\db63660020.jpg\n",
      "SUCCESS - saved https://encrypted-tbn0.gstatic.com/images?q=tbn:ANd9GcSBhpVImii2T68UnfA9UHpdMul6GTdAHbl-lQ&usqp=CAU - as ./images\\dog\\5da437902b.jpg\n",
      "SUCCESS - saved https://encrypted-tbn0.gstatic.com/images?q=tbn:ANd9GcQxYy4mS5E0-eG5aKeoTPTtkwal628dGFsrgA&usqp=CAU - as ./images\\dog\\e8f15e7b2d.jpg\n",
      "SUCCESS - saved https://yt3.ggpht.com/ytc/AKedOLRvxGYSdEHqu0X4EYcJ2kq7BttRKBNpfwdHJf3FSg=s900-c-k-c0x00ffffff-no-rj - as ./images\\dog\\17017ca3bd.jpg\n",
      "SUCCESS - saved https://cdn.vox-cdn.com/thumbor/-c9IudqTUyacRWJiAOfzDTpWGy4=/1400x1050/filters:format(jpeg)/cdn.vox-cdn.com/uploads/chorus_asset/file/22025159/bunny_the_dog.jpg - as ./images\\dog\\9323deef8c.jpg\n",
      "SUCCESS - saved https://encrypted-tbn0.gstatic.com/images?q=tbn:ANd9GcRMait-HCMjXzfPvIFLffCidNp_aSZ9J0DGTQ&usqp=CAU - as ./images\\dog\\b5ef9eabba.jpg\n",
      "SUCCESS - saved https://ichef.bbci.co.uk/news/976/cpsprodpb/169A8/production/_120248529_gettyimages-157037529.jpg - as ./images\\dog\\5978d450ac.jpg\n",
      "SUCCESS - saved https://encrypted-tbn0.gstatic.com/images?q=tbn:ANd9GcQsYgNeoMEftRfGqzRxDq4vMyQqb8vDum2TpQ&usqp=CAU - as ./images\\dog\\9cbed828b8.jpg\n",
      "SUCCESS - saved https://hips.hearstapps.com/hmg-prod.s3.amazonaws.com/images/gettyimages-1094874726.png?crop=0.542xw:0.814xh;0.0472xw,0.127xh&resize=640:* - as ./images\\dog\\923f7d759e.jpg\n",
      "SUCCESS - saved https://media.nature.com/lw800/magazine-assets/d41586-020-03053-2/d41586-020-03053-2_18533904.jpg - as ./images\\dog\\233a610715.jpg\n",
      "SUCCESS - saved https://www.akc.org/wp-content/uploads/2017/11/Golden-Retriever-Puppy.jpg - as ./images\\dog\\7d53262e73.jpg\n",
      "SUCCESS - saved https://i.natgeofe.com/n/3faa2b6a-f351-4995-8fff-36d145116882/domestic-dog_16x9.jpg - as ./images\\dog\\133c9ac2c3.jpg\n",
      "SUCCESS - saved https://encrypted-tbn0.gstatic.com/images?q=tbn:ANd9GcScIoPJbDAoPbT8VrRY8c5TrmW3Upr7w5wYFQ&usqp=CAU - as ./images\\dog\\e9f2ed2ac8.jpg\n",
      "SUCCESS - saved https://encrypted-tbn0.gstatic.com/images?q=tbn:ANd9GcS3aafGt0LRhdmy4NTfLq7gO7U7XMR-P2VT3w&usqp=CAU - as ./images\\dog\\27292112bd.jpg\n",
      "SUCCESS - saved https://encrypted-tbn0.gstatic.com/images?q=tbn:ANd9GcSnOr6y_5qKto3kXI7J3kBPbydCP6xbs2c7Qg&usqp=CAU - as ./images\\dog\\3c3dec732e.jpg\n",
      "SUCCESS - saved https://i.natgeofe.com/n/4f5aaece-3300-41a4-b2a8-ed2708a0a27c/domestic-dog_thumb_4x3.jpg - as ./images\\dog\\4ef3a1683f.jpg\n",
      "SUCCESS - saved https://3zvfg2y4zbiw2a1z1dpi69wm-wpengine.netdna-ssl.com/wp-content/uploads/2020/10/autism-in-dogs-400x225.jpg - as ./images\\dog\\31f9cf6b71.jpg\n",
      "SUCCESS - saved https://encrypted-tbn0.gstatic.com/images?q=tbn:ANd9GcQMrApy0gwOrwUrW4VRQMIsbokm4Rq4RH8spg&usqp=CAU - as ./images\\dog\\d697c71704.jpg\n",
      "ERROR - Could not save https://support.woodgreen.org.uk/wp-content/uploads/2021/03/woodgreen_63879917414-e1639674324634-700x520-c-default.jpg - cannot identify image file <_io.BytesIO object at 0x0000022241B88E50>\n",
      "SUCCESS - saved https://d.newsweek.com/en/full/1872567/file-photo-dog-leash.jpg - as ./images\\dog\\dab5f7554c.jpg\n",
      "SUCCESS - saved https://encrypted-tbn0.gstatic.com/images?q=tbn:ANd9GcQP_fwiZgO8Q-OSaBL3cV8xPjJqt9pi1gvKxw&usqp=CAU - as ./images\\dog\\0aa59487ba.jpg\n",
      "SUCCESS - saved https://www.discoverdogs.org.uk/wp-content/uploads/2021/09/Pepper-BorderCollie-RachelOates-18.jpg - as ./images\\dog\\7c078ceec6.jpg\n",
      "SUCCESS - saved https://encrypted-tbn0.gstatic.com/images?q=tbn:ANd9GcShgWaNfISOA9x1HAn1OkST9Ss0XB4JtrJRhw&usqp=CAU - as ./images\\dog\\641e5de4a3.jpg\n",
      "SUCCESS - saved https://www.dogtime.com/assets/uploads/2011/01/file_23020_dachshund-dog-breed.jpg - as ./images\\dog\\0d2ac67e2e.jpg\n",
      "SUCCESS - saved https://encrypted-tbn0.gstatic.com/images?q=tbn:ANd9GcRS7LWfLb_M274oltt9TDDI3zL1KHRW7If2GA&usqp=CAU - as ./images\\dog\\cf086c49f7.jpg\n",
      "SUCCESS - saved https://hips.hearstapps.com/hmg-prod.s3.amazonaws.com/images/golden-retriever-royalty-free-image-506756303-1560962726.jpg?crop=0.672xw:1.00xh;0.166xw,0&resize=640:* - as ./images\\dog\\4fdbeb98ad.jpg\n",
      "SUCCESS - saved https://imagesvc.meredithcorp.io/v3/mm/image?url=https%3A%2F%2Fstatic.onecms.io%2Fwp-content%2Fuploads%2Fsites%2F28%2F2020%2F10%2F13%2Fcorgi-dog-POPDOGNAME1020.jpg - as ./images\\dog\\5d961159a7.jpg\n",
      "SUCCESS - saved https://media.wired.co.uk/photos/606d9c691e0ddb19555fb809/master/w_1600%2Cc_limit/dog-unsolicited.jpg - as ./images\\dog\\f73d603529.jpg\n",
      "SUCCESS - saved https://encrypted-tbn0.gstatic.com/images?q=tbn:ANd9GcS-f6C75719Ua-Lt7G-rPGN9Ud7oChTEBEuVQ&usqp=CAU - as ./images\\dog\\698e56eb26.jpg\n",
      "SUCCESS - saved https://encrypted-tbn0.gstatic.com/images?q=tbn:ANd9GcR5ps8TZRyIWb6SoQdrElDc0BWnkwI9p0TiSQ&usqp=CAU - as ./images\\dog\\22f99b4396.jpg\n",
      "SUCCESS - saved https://th-thumbnailer.cdn-si-edu.com/UAWN47hsFkRSdwxaxb_5TTInQ2M=/1000x750/filters:no_upscale():focal(1814x1209:1815x1210)/https://tf-cmsv2-smithsonianmag-media.s3.amazonaws.com/filer_public/18/f5/18f56f6c-1540-49c1-849a-6edb4f5beb92/encontro_dog_institute_40130382010.jpeg - as ./images\\dog\\3ce3cdf18c.jpg\n",
      "SUCCESS - saved https://encrypted-tbn0.gstatic.com/images?q=tbn:ANd9GcS3NyGvQvAdIMBb0u8SE0wPQetQprutZZsFog&usqp=CAU - as ./images\\dog\\e5888a7549.jpg\n",
      "SUCCESS - saved https://encrypted-tbn0.gstatic.com/images?q=tbn:ANd9GcQ7OvUa3anM324dxaV4d6J8M4b7SdZiFSrYdw&usqp=CAU - as ./images\\dog\\b0b3bee50e.jpg\n",
      "SUCCESS - saved https://imagesvc.meredithcorp.io/v3/mm/image?url=https%3A%2F%2Fstatic.onecms.io%2Fwp-content%2Fuploads%2Fsites%2F47%2F2021%2F03%2F25%2Fdoberman-pinscher-red-collar-1100812121-2000.jpg - as ./images\\dog\\0be3797d3d.jpg\n",
      "SUCCESS - saved https://cdn.vox-cdn.com/thumbor/VfQSxXUEPQMzZcC-L4C9A2PfxWU=/0x0:4608x3456/1200x800/filters:focal(0x0:4608x3456)/cdn.vox-cdn.com/uploads/chorus_image/image/46064224/8409370600_b4610104d6_o.0.0.jpg - as ./images\\dog\\15508c0052.jpg\n",
      "SUCCESS - saved https://encrypted-tbn0.gstatic.com/images?q=tbn:ANd9GcTG2HM66eiI9Nm_kJxwnCEmZlOp_XRR492Xng&usqp=CAU - as ./images\\dog\\0797b96b26.jpg\n",
      "SUCCESS - saved https://encrypted-tbn0.gstatic.com/images?q=tbn:ANd9GcT5MHRuW5UBkS5ySiEspfbcPTWZFCV6BFZu9w&usqp=CAU - as ./images\\dog\\fd7969035d.jpg\n",
      "SUCCESS - saved https://cdn.cnn.com/cnnnext/dam/assets/201030094143-stock-rhodesian-ridgeback-super-tease.jpg - as ./images\\dog\\f5ff256a33.jpg\n",
      "SUCCESS - saved https://encrypted-tbn0.gstatic.com/images?q=tbn:ANd9GcR-hNSnnS_Tgll1Ly6E5dPv7fSQBYQMAxZVYQ&usqp=CAU - as ./images\\dog\\e90872baaa.jpg\n",
      "SUCCESS - saved https://encrypted-tbn0.gstatic.com/images?q=tbn:ANd9GcRqe95sCOpsWPW2LhsIK2IZQYxeAOLiU6HMtQ&usqp=CAU - as ./images\\dog\\1bdfecbaae.jpg\n",
      "SUCCESS - saved https://i2-prod.chroniclelive.co.uk/incoming/article22724472.ece/ALTERNATES/s1200c/1_dog-on-beach.jpg - as ./images\\dog\\dcfe67cb76.jpg\n",
      "SUCCESS - saved https://www.gannett-cdn.com/media/2021/06/03/USATODAY/usatsports/imageForEntry18-8on.jpg?width=2560 - as ./images\\dog\\c4d8adb9fa.jpg\n",
      "SUCCESS - saved https://www.science.org/do/10.1126/science.acx9503/abs/_211028_on_dogtilt.jpg - as ./images\\dog\\b5214f3092.jpg\n",
      "SUCCESS - saved https://encrypted-tbn0.gstatic.com/images?q=tbn:ANd9GcTO5U_ey34JfjcpO-PCuBxU8bQ74c3t4j4Fnw&usqp=CAU - as ./images\\dog\\3729a7e47c.jpg\n",
      "SUCCESS - saved https://ichef.bbci.co.uk/news/976/cpsprodpb/C1F8/production/_117565694_gettyimages-1281548206.jpg - as ./images\\dog\\b38de6c4f5.jpg\n",
      "SUCCESS - saved https://encrypted-tbn0.gstatic.com/images?q=tbn:ANd9GcQI4chzdMV_GdSsuikydFTkgacUk4nqcaAH3g&usqp=CAU - as ./images\\dog\\b81429aea9.jpg\n",
      "SUCCESS - saved https://d1e00ek4ebabms.cloudfront.net/production/f6b4059e-a157-4354-b119-8252e57b59c8.jpg - as ./images\\dog\\72712ffb99.jpg\n",
      "SUCCESS - saved https://www.thekennelclub.org.uk/media/2465/questions-for-the-breeder-no-credit.jpg?mode=crop&width=800&height=600&rnd=132137840200000000 - as ./images\\dog\\2b6fbde6eb.jpg\n",
      "SUCCESS - saved https://media-cldnry.s-nbcnews.com/image/upload/newscms/2021_18/3469748/210430-frankie-al-1227_0.jpg - as ./images\\dog\\dc7ae33d01.jpg\n",
      "SUCCESS - saved https://www.scotsman.com/webimg/b25lY21zOjE5MTE0NzQwLTk3NTEtNDk2OC1hZTU5LTk1ZWFmNzRhYzFkMjo0NDRiNjk4YS0zMzViLTQwNmYtYjk2MS01NzA0MjUwMTI4NTU=.jpg?width=2048&enable=upscale - as ./images\\dog\\3a2deae93f.jpg\n",
      "SUCCESS - saved https://th-thumbnailer.cdn-si-edu.com/zYumlXI3CHb3RIo4LKwcezF78nQ=/1000x750/filters:no_upscale()/https://tf-cmsv2-smithsonianmag-media.s3.amazonaws.com/filer/ad/7b/ad7b3860-ad5f-43dc-800e-af57830cd1d3/labrador.jpg - as ./images\\dog\\b5609cdc57.jpg\n",
      "SUCCESS - saved https://encrypted-tbn0.gstatic.com/images?q=tbn:ANd9GcTbVi9yGhp3PZd0cnt9xRZXArJ_QB-ROyuvjg&usqp=CAU - as ./images\\dog\\94dcaca06e.jpg\n",
      "SUCCESS - saved https://encrypted-tbn0.gstatic.com/images?q=tbn:ANd9GcTrCWq1sfFYIiQ2FIRCZwU3taDLzqug6SJNuw&usqp=CAU - as ./images\\dog\\be0f22eca5.jpg\n",
      "SUCCESS - saved https://www.cnn.com/interactive/2021/12/world/two-dogs-catching-treats-cnnphotos/media/images/s_7F29DB66001B627FB4116B1739A280DEF61638AA9E0A9DBFC611A65816DB3720_1639757371977_01-191013_Stargardt_Fero_54-1.jpg - as ./images\\dog\\b287ec4d3e.jpg\n",
      "SUCCESS - saved https://encrypted-tbn0.gstatic.com/images?q=tbn:ANd9GcRUw2AkuISpdzASXC8llV5eEoBxkQLU-HDUqA&usqp=CAU - as ./images\\dog\\d68b9740a4.jpg\n",
      "SUCCESS - saved https://i.guim.co.uk/img/media/fe1e34da640c5c56ed16f76ce6f994fa9343d09d/0_174_3408_2046/master/3408.jpg?width=1200&height=1200&quality=85&auto=format&fit=crop&s=67773a9d419786091c958b2ad08eae5e - as ./images\\dog\\df4466eb4e.jpg\n",
      "SUCCESS - saved https://encrypted-tbn0.gstatic.com/images?q=tbn:ANd9GcSZwdOonCQb2xKcR0OS4N4I7V30ehdwAXK5Rw&usqp=CAU - as ./images\\dog\\cb68f0bc66.jpg\n",
      "SUCCESS - saved https://media.npr.org/assets/img/2021/04/27/prancer_custom-759bb62cb7b875f2cfaa6429170483b9552e7cbd.jpg - as ./images\\dog\\759bb62cb7.jpg\n",
      "SUCCESS - saved https://www.washingtonpost.com/resizer/bXHXk20Hdp3fKAuGC3uoW5nxte0=/arc-anglerfish-washpost-prod-washpost/public/72EAUG3LG5GTDLBGPVNY6XD57A.jpg - as ./images\\dog\\5d751324a6.jpg\n",
      "SUCCESS - saved https://www.helpguide.org/wp-content/uploads/king-charles-spaniel-resting-head-768.jpg - as ./images\\dog\\98b6161815.jpg\n",
      "SUCCESS - saved https://images.theconversation.com/files/319375/original/file-20200309-118956-1cqvm6j.jpg?ixlib=rb-1.1.0&q=45&auto=format&w=1200&h=900.0&fit=crop - as ./images\\dog\\3a9e97b232.jpg\n",
      "SUCCESS - saved https://i.guim.co.uk/img/media/684c9d087dab923db1ce4057903f03293b07deac/205_132_1915_1150/master/1915.jpg?width=1200&height=1200&quality=85&auto=format&fit=crop&s=14a95b5026c1567b823629ba35c40aa0 - as ./images\\dog\\812d60c291.jpg\n",
      "SUCCESS - saved https://www.dog.com/ezine/hash_D5-8A-67-08-4C-2B-FA-09-6D-D9-17-3D-A1-FC-C1-60/images/Homepage/2021/20211122P/half-page-banners-desktop-dog-coat.jpg - as ./images\\dog\\a7b2eac116.jpg\n",
      "SUCCESS - saved https://encrypted-tbn0.gstatic.com/images?q=tbn:ANd9GcRy-rjRO4reDCYkdHGLEnoDPacstC_3Zc-KXw&usqp=CAU - as ./images\\dog\\86a589aea0.jpg\n",
      "SUCCESS - saved https://encrypted-tbn0.gstatic.com/images?q=tbn:ANd9GcT5ayzT-7BLdN_nwLT7xxv7blgp-4hZg_MKmQ&usqp=CAU - as ./images\\dog\\726e9b9afb.jpg\n",
      "SUCCESS - saved https://i.ytimg.com/vi/MPV2METPeJU/maxresdefault.jpg - as ./images\\dog\\b61b601eea.jpg\n",
      "SUCCESS - saved https://encrypted-tbn0.gstatic.com/images?q=tbn:ANd9GcQ1Tii9ty2Tua0yJvS0lzIENaF8CHGfFf1zCA&usqp=CAU - as ./images\\dog\\7a42ed2c8d.jpg\n",
      "SUCCESS - saved https://encrypted-tbn0.gstatic.com/images?q=tbn:ANd9GcTIy5NrA0td4focPJDgvIme1O3UGr4Vh3vVeg&usqp=CAU - as ./images\\dog\\86b91ca664.jpg\n",
      "SUCCESS - saved https://encrypted-tbn0.gstatic.com/images?q=tbn:ANd9GcQinXbYNP5K67G7BxbBpqoNDZXPT2I1EpcD1g&usqp=CAU - as ./images\\dog\\127e12c3fa.jpg\n",
      "SUCCESS - saved https://encrypted-tbn0.gstatic.com/images?q=tbn:ANd9GcS4GCtZMzmnVwuqdgNzniwrRQhYuPHXziD8TQ&usqp=CAU - as ./images\\dog\\06bbce19b2.jpg\n",
      "ERROR - Could not save https://www.guidedogs.org/wp-content/uploads/2021/10/puppy-future-guide-dog-bandana-scaled-rev-scaled.jpg - cannot identify image file <_io.BytesIO object at 0x0000022246082EF0>\n",
      "SUCCESS - saved https://www.akc.org/wp-content/uploads/2018/11/Grooming-tips-from-experts-hero.jpg - as ./images\\dog\\6a5c5cce2c.jpg\n",
      "SUCCESS - saved https://cdn.vox-cdn.com/thumbor/CqsS8CZJVT1wcu_OCdGxcdPIPgg=/1400x1050/filters:format(jpeg)/cdn.vox-cdn.com/uploads/chorus_asset/file/21768855/pop_culter_dog_rank_alyceatinoyan_feature.jpg - as ./images\\dog\\efcf746a11.jpg\n",
      "SUCCESS - saved https://encrypted-tbn0.gstatic.com/images?q=tbn:ANd9GcRYghpfZc9Ulf-zM7PSY2do3vVm9XGi3Bbjqg&usqp=CAU - as ./images\\dog\\3080320816.jpg\n"
     ]
    }
   ],
   "source": [
    "search_term = \"dog\"\n",
    "\n",
    "search_and_download(\n",
    "    search_term=search_term,\n",
    "    driver_path = DRIVER_PATH\n",
    ")"
   ]
  },
  {
   "cell_type": "code",
   "execution_count": null,
   "outputs": [],
   "source": [],
   "metadata": {
    "collapsed": false,
    "pycharm": {
     "name": "#%%\n",
     "is_executing": true
    }
   }
  }
 ],
 "metadata": {
  "kernelspec": {
   "display_name": "Python 3",
   "language": "python",
   "name": "python3"
  },
  "language_info": {
   "codemirror_mode": {
    "name": "ipython",
    "version": 3
   },
   "file_extension": ".py",
   "mimetype": "text/x-python",
   "name": "python",
   "nbconvert_exporter": "python",
   "pygments_lexer": "ipython3",
   "version": "3.8.8"
  }
 },
 "nbformat": 4,
 "nbformat_minor": 5
}