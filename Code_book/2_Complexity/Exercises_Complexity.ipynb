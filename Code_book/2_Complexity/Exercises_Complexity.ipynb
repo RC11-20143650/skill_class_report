{
 "cells": [
  {
   "cell_type": "markdown",
   "metadata": {},
   "source": [
    "# Exercises - Complexity"
   ]
  },
  {
   "cell_type": "markdown",
   "metadata": {},
   "source": [
    "## Exercise 1.\n",
    "Suppose we have a computer which can perform 1 million (= $10^6$) operations per second. \n",
    "\n",
    "The formulas below denote the running time of some algorithms (in number of operations) depending on the number of elements $n$ we feed to the algorithm. Determine for each algorithm how many elements can be processed in 1 minute.\n",
    "\n",
    "1. $n$\n",
    "2. $n^2$\n",
    "3. $n^3$\n",
    "4. $n!$ _(This is called n factorial)_\n",
    "5. $n*lg(n)$\n",
    "6. $2^n$\n",
    "7. $\\sqrt n$\n",
    "8. $n^{50}$\n",
    "9. $2^n$\n"
   ]
  },
  {
   "cell_type": "markdown",
   "metadata": {},
   "source": [
    "answer here"
   ]
  },
  {
   "cell_type": "code",
   "execution_count": 45,
   "metadata": {},
   "outputs": [
    {
     "name": "stdout",
     "output_type": "stream",
     "text": [
      "60000000.0\n",
      "7745.966692414834\n",
      "391.4867641168862\n",
      "39916800.0\n",
      "??\n",
      "67108864\n",
      "3600000000000000.0\n",
      "1.430747596480305\n",
      "22.516531070045332\n"
     ]
    }
   ],
   "source": [
    "import numpy as np\n",
    "import math\n",
    "\n",
    "answer01 = 60 * 1e+6\n",
    "\n",
    "answer02 = pow(60 * 1e+6, 1/2)\n",
    "\n",
    "answer03 = pow(60 * 1e+6, 1/3)\n",
    "\n",
    "temp0 = 1\n",
    "temp1 = 1\n",
    "while temp1 < (60 * 1e+6):\n",
    "    temp1 = temp1 * temp0\n",
    "    temp0 = temp0 + 1\n",
    "answer04 = temp1 / (temp0-1)\n",
    "\n",
    "answer05 = \"??\"\n",
    "\n",
    "temp2 = 1\n",
    "while temp2 < (60 * 1e+6):\n",
    "    temp2 = temp2 * 2\n",
    "answer06 = temp2\n",
    "\n",
    "answer07 = pow(60 * 1e+6, 2)\n",
    "\n",
    "answer08 = pow(60 * 1e+6, 1/50)\n",
    "\n",
    "answer09 =  np.log2(6 * 1e+6)\n",
    " \n",
    "\n",
    "print(answer01)\n",
    "print(answer02)\n",
    "print(answer03)\n",
    "print(answer04)\n",
    "print(answer05)\n",
    "print(answer06)\n",
    "print(answer07)\n",
    "print(answer08)\n",
    "print(answer09)"
   ]
  },
  {
   "cell_type": "markdown",
   "metadata": {},
   "source": [
    "## Exercise 2.\n",
    "Sort the functions below following $O(.)$\n",
    "\n",
    "1. $n$\n",
    "2. $10^6 - n^3 + 3n^5$\n",
    "3. $2^n$\n",
    "4. $n^2$\n",
    "5. $n*lg(n)$\n",
    "6. $\\sqrt n$\n",
    "7. $n!$\n"
   ]
  },
  {
   "cell_type": "markdown",
   "metadata": {},
   "source": [
    "answer here"
   ]
  },
  {
   "cell_type": "code",
   "execution_count": 7,
   "metadata": {
    "scrolled": true
   },
   "outputs": [
    {
     "data": {
      "text/plain": "<Figure size 432x288 with 1 Axes>",
      "image/png": "[encoded data removed]"
     },
     "metadata": {
      "needs_background": "light"
     },
     "output_type": "display_data"
    }
   ],
   "source": [
    "import matplotlib.pyplot as plt\n",
    "import numpy as np\n",
    "import math\n",
    "\n",
    "maxX = 30\n",
    "maxY = 100\n",
    "\n",
    "n = np.linspace(0, maxX)\n",
    "n1 = np.linspace(0.1, maxX)\n",
    "\n",
    " #   def func(n):\n",
    " #       res = n\n",
    " #       for i in range(1,n-1):\n",
    " #           res = res * i\n",
    " #       return res \n",
    "\n",
    "f1 = n\n",
    "f2 = 1e+6 - n**3 + 3*(n**5)\n",
    "f3 = 2**n\n",
    "f4 = n**2\n",
    "f5 = n * np.log10(n1)\n",
    "f6 = np.sqrt(n)\n",
    "# f7 = func(n)\n",
    "\n",
    "fig, ax = plt.subplots()\n",
    "ax.plot(n, f1, label = \"n\")\n",
    "ax.plot(n, f2, label = \"10**6 - n**3 + 3n**5\")\n",
    "ax.plot(n, f3, label = \"2**n\")\n",
    "ax.plot(n, f4, label = \"n**2\")\n",
    "ax.plot(n1, f5, label = \"n*lg(n)\")\n",
    "ax.plot(n, f6, label = \"sqrt(n)\")\n",
    "# ax.plot(n, f7, label = \"n!\")\n",
    "\n",
    "ax.set_ylim([-1, maxY])\n",
    "\n",
    "ax.grid()\n",
    "plt.legend()\n",
    "plt.show()"
   ]
  },
  {
   "cell_type": "markdown",
   "metadata": {},
   "source": [
    "answer : $10^6 - n^3 + 3n^5$ > $n!$ > $2^n$ > $n^2$ > $n*lg(n)$ > $n$ > $\\sqrt n$ "
   ]
  },
  {
   "cell_type": "markdown",
   "metadata": {},
   "source": [
    "## Exercise 3.\n",
    "In mathematics, a factorial of a positive integer $n$ is denoted by $n!$. This is the product of all positive integers less than or equal to $n$. This can be given by the following set of equations:\n",
    "\n",
    "- $n! = n * (n-1)!$\n",
    "- $0! = 1$\n",
    "\n",
    "write a recursive function (so a function that calls itself within its definition) that returns the factorial of a number $n$\n"
   ]
  },
  {
   "cell_type": "code",
   "execution_count": null,
   "metadata": {},
   "outputs": [],
   "source": [
    "answer here"
   ]
  },
  {
   "cell_type": "code",
   "execution_count": 39,
   "metadata": {},
   "outputs": [],
   "source": [
    "def  factorial(n): \n",
    "    if n == 0 : \n",
    "        return 1 \n",
    "    else : \n",
    "        return n * factorial(n - 1)"
   ]
  },
  {
   "cell_type": "markdown",
   "metadata": {},
   "source": [
    "Now comment on what you think the order complexity of the function is. "
   ]
  },
  {
   "cell_type": "markdown",
   "metadata": {},
   "source": [
    "answer here"
   ]
  },
  {
   "cell_type": "code",
   "execution_count": null,
   "metadata": {},
   "outputs": [],
   "source": []
  },
  {
   "cell_type": "markdown",
   "metadata": {},
   "source": [
    "## Exercise 6\n",
    "Give the complexity in $O(.)$ of the following (dummy) algorithms, and explain why.  \n"
   ]
  },
  {
   "cell_type": "code",
   "execution_count": 5,
   "metadata": {},
   "outputs": [],
   "source": [
    "def algorithm1(n):\n",
    "    s = 0\n",
    "    i = 0\n",
    "    while i<n:\n",
    "        s += 1\n",
    "        i += 1\n",
    "    return(s,i)"
   ]
  },
  {
   "cell_type": "markdown",
   "metadata": {},
   "source": [
    "answer here"
   ]
  },
  {
   "cell_type": "markdown",
   "metadata": {},
   "source": [
    "f(n) = n"
   ]
  },
  {
   "cell_type": "code",
   "execution_count": 46,
   "metadata": {},
   "outputs": [],
   "source": [
    "def algorithm2(n):\n",
    "    s = 0\n",
    "    i = 0\n",
    "    while i<n:\n",
    "        j = 0\n",
    "        while j<n:\n",
    "            s += 1\n",
    "            j += 1\n",
    "        i += 1\n",
    "    return(s,i,j)"
   ]
  },
  {
   "cell_type": "markdown",
   "metadata": {},
   "source": [
    "answer here"
   ]
  },
  {
   "cell_type": "markdown",
   "metadata": {},
   "source": [
    " $n^2$"
   ]
  },
  {
   "cell_type": "code",
   "execution_count": 47,
   "metadata": {},
   "outputs": [],
   "source": [
    "def algorithm3(n):\n",
    "    s = 0\n",
    "    i = 0\n",
    "    while i<n:\n",
    "        j = 0\n",
    "        while j<n*n:\n",
    "            s += 1\n",
    "            j += 1\n",
    "        i += 1\n",
    "    return(s,i,j)"
   ]
  },
  {
   "cell_type": "markdown",
   "metadata": {},
   "source": [
    "answer here"
   ]
  },
  {
   "cell_type": "markdown",
   "metadata": {},
   "source": [
    " $n^3$"
   ]
  }
 ],
 "metadata": {
  "kernelspec": {
   "display_name": "Python 3",
   "language": "python",
   "name": "python3"
  },
  "language_info": {
   "codemirror_mode": {
    "name": "ipython",
    "version": 3
   },
   "file_extension": ".py",
   "mimetype": "text/x-python",
   "name": "python",
   "nbconvert_exporter": "python",
   "pygments_lexer": "ipython3",
   "version": "3.8.8"
  }
 },
 "nbformat": 4,
 "nbformat_minor": 2
}