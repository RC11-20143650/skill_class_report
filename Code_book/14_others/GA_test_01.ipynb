{
 "cells": [
  {
   "cell_type": "code",
   "execution_count": 8,
   "outputs": [],
   "source": [
    "import numpy\n",
    "\n",
    "# This project is extended and a library called PyGAD is released to build the genetic algorithm.\n",
    "# PyGAD documentation: https://pygad.readthedocs.io\n",
    "# Install PyGAD: pip install pygad\n",
    "# PyGAD source code at GitHub: https://github.com/ahmedfgad/GeneticAlgorithmPython\n",
    "\n",
    "def cal_pop_fitness(equation_inputs, pop):\n",
    "    # Calculating the fitness value of each solution in the current population.\n",
    "    # The fitness function caulcuates the sum of products between each input and its corresponding weight.\n",
    "    fitness = numpy.sum(pop*equation_inputs, axis=1)\n",
    "    return fitness\n",
    "\n",
    "def select_mating_pool(pop, fitness, num_parents):\n",
    "    # Selecting the best individuals in the current generation as parents for producing the offspring of the next generation.\n",
    "    parents = numpy.empty((num_parents, pop.shape[1]))\n",
    "    for parent_num in range(num_parents):\n",
    "        max_fitness_idx = numpy.where(fitness == numpy.max(fitness))\n",
    "        max_fitness_idx = max_fitness_idx[0][0]\n",
    "        parents[parent_num, :] = pop[max_fitness_idx, :]\n",
    "        fitness[max_fitness_idx] = -99999999999\n",
    "    return parents\n",
    "\n",
    "def crossover(parents, offspring_size):\n",
    "    offspring = numpy.empty(offspring_size)\n",
    "    # The point at which crossover takes place between two parents. Usually it is at the center.\n",
    "    crossover_point = numpy.uint8(offspring_size[1]/2)\n",
    "\n",
    "    for k in range(offspring_size[0]):\n",
    "        # Index of the first parent to mate.\n",
    "        parent1_idx = k%parents.shape[0]\n",
    "        # Index of the second parent to mate.\n",
    "        parent2_idx = (k+1)%parents.shape[0]\n",
    "        # The new offspring will have its first half of its genes taken from the first parent.\n",
    "        offspring[k, 0:crossover_point] = parents[parent1_idx, 0:crossover_point]\n",
    "        # The new offspring will have its second half of its genes taken from the second parent.\n",
    "        offspring[k, crossover_point:] = parents[parent2_idx, crossover_point:]\n",
    "    return offspring\n",
    "\n",
    "def mutation(offspring_crossover):\n",
    "    # Mutation changes a single gene in each offspring randomly.\n",
    "    for idx in range(offspring_crossover.shape[0]):\n",
    "        # The random value to be added to the gene.\n",
    "        random_value = numpy.random.uniform(-1.0, 1.0, 1)\n",
    "        offspring_crossover[idx, 4] = offspring_crossover[idx, 4] + random_value\n",
    "    return offspring_crossover"
   ],
   "metadata": {
    "collapsed": false,
    "pycharm": {
     "name": "#%%\n"
    }
   }
  },
  {
   "cell_type": "code",
   "execution_count": 10,
   "outputs": [
    {
     "name": "stdout",
     "output_type": "stream",
     "text": [
      "[[-1.10631316  3.83118726  3.34001538  2.61251061 -3.16339117  3.76351997]\n",
      " [ 2.32553716 -1.25689059  0.20448109  1.30479094 -3.74832839 -0.94397843]\n",
      " [-0.80653509  0.1236398  -2.29106748  1.46590501  0.78119166 -1.54738862]\n",
      " [-1.00293988  3.02447595 -1.07826896  1.30078917 -2.39693757  0.40493727]\n",
      " [ 1.74221872  1.17183203 -2.60535226 -3.47376576  3.28241984  2.82820951]\n",
      " [ 2.25337725  2.53923797 -1.3291639  -2.76888453 -2.90282109 -2.78027393]\n",
      " [ 0.95857135 -2.71962885  1.7410938  -0.23934586  0.81363014  3.50950613]\n",
      " [-0.02023454 -2.05542797 -2.36107973  1.194198    3.23837943  3.72684319]]\n",
      "Generation :  0\n",
      "Best result :  64.72387932869066\n",
      "Generation :  1\n",
      "Best result :  64.72387932869066\n",
      "Generation :  2\n",
      "Best result :  64.72387932869066\n",
      "Generation :  3\n",
      "Best result :  73.37307941696736\n",
      "Generation :  4\n",
      "Best result :  82.54106319684495\n",
      "Best solution :  [[[ 2.32553716 -1.25689059  0.20448109  1.30479094 -5.36807238\n",
      "   -0.94397843]]]\n",
      "Best solution fitness :  [82.5410632]\n"
     ]
    }
   ],
   "source": [
    "import numpy\n",
    "import pygad as ga\n",
    "\n",
    "\"\"\"\n",
    "The y=target is to maximize this equation ASAP:\n",
    "    y = w1x1+w2x2+w3x3+w4x4+w5x5+6wx6\n",
    "    where (x1,x2,x3,x4,x5,x6)=(4,-2,3.5,5,-11,-4.7)\n",
    "    What are the best values for the 6 weights w1 to w6?\n",
    "    We are going to use the genetic algorithm for the best possible values after a number of generations.\n",
    "\"\"\"\n",
    "\n",
    "# Inputs of the equation.\n",
    "equation_inputs = [4,-2,3.5,5,-11,-4.7]\n",
    "\n",
    "# Number of the weights we are looking to optimize.\n",
    "num_weights = 6\n",
    "\n",
    "\"\"\"\n",
    "Genetic algorithm parameters:\n",
    "    Mating pool size\n",
    "    Population size\n",
    "\"\"\"\n",
    "sol_per_pop = 8\n",
    "num_parents_mating = 4\n",
    "\n",
    "# Defining the population size.\n",
    "pop_size = (sol_per_pop,num_weights) # The population will have sol_per_pop chromosome where each chromosome has num_weights genes.\n",
    "#Creating the initial population.\n",
    "new_population = numpy.random.uniform(low=-4.0, high=4.0, size=pop_size)\n",
    "print(new_population)\n",
    "\n",
    "num_generations = 5\n",
    "for generation in range(num_generations):\n",
    "    print(\"Generation : \", generation)\n",
    "    # Measing the fitness of each chromosome in the population.\n",
    "    fitness = cal_pop_fitness(equation_inputs, new_population)\n",
    "\n",
    "    # Selecting the best parents in the population for mating.\n",
    "    parents = select_mating_pool(new_population, fitness,\n",
    "                                      num_parents_mating)\n",
    "\n",
    "    # Generating next generation using crossover.\n",
    "    offspring_crossover = crossover(parents,\n",
    "                                       offspring_size=(pop_size[0]-parents.shape[0], num_weights))\n",
    "\n",
    "    # Adding some variations to the offsrping using mutation.\n",
    "    offspring_mutation = mutation(offspring_crossover)\n",
    "\n",
    "    # Creating the new population based on the parents and offspring.\n",
    "    new_population[0:parents.shape[0], :] = parents\n",
    "    new_population[parents.shape[0]:, :] = offspring_mutation\n",
    "\n",
    "    # The best result in the current iteration.\n",
    "    print(\"Best result : \", numpy.max(numpy.sum(new_population*equation_inputs, axis=1)))\n",
    "\n",
    "# Getting the best solution after iterating finishing all generations.\n",
    "#At first, the fitness is calculated for each solution in the final generation.\n",
    "fitness = cal_pop_fitness(equation_inputs, new_population)\n",
    "# Then return the index of that solution corresponding to the best fitness.\n",
    "best_match_idx = numpy.where(fitness == numpy.max(fitness))\n",
    "\n",
    "print(\"Best solution : \", new_population[best_match_idx, :])\n",
    "print(\"Best solution fitness : \", fitness[best_match_idx])"
   ],
   "metadata": {
    "collapsed": false,
    "pycharm": {
     "name": "#%%\n"
    }
   }
  },
  {
   "cell_type": "code",
   "execution_count": 7,
   "outputs": [],
   "source": [],
   "metadata": {
    "collapsed": false,
    "pycharm": {
     "name": "#%%\n"
    }
   }
  },
  {
   "cell_type": "code",
   "execution_count": 1,
   "outputs": [
    {
     "ename": "AttributeError",
     "evalue": "module 'matplotlib.cbook' has no attribute 'iterable'",
     "output_type": "error",
     "traceback": [
      "\u001B[1;31m---------------------------------------------------------------------------\u001B[0m",
      "\u001B[1;31mAttributeError\u001B[0m                            Traceback (most recent call last)",
      "\u001B[1;32m<ipython-input-1-51638dfa1142>\u001B[0m in \u001B[0;36m<module>\u001B[1;34m\u001B[0m\n\u001B[0;32m     21\u001B[0m \u001B[1;31m#draw and show graph\u001B[0m\u001B[1;33m\u001B[0m\u001B[1;33m\u001B[0m\u001B[1;33m\u001B[0m\u001B[0m\n\u001B[0;32m     22\u001B[0m \u001B[0mpos\u001B[0m \u001B[1;33m=\u001B[0m \u001B[0mnx\u001B[0m\u001B[1;33m.\u001B[0m\u001B[0mspring_layout\u001B[0m\u001B[1;33m(\u001B[0m\u001B[0mG\u001B[0m\u001B[1;33m)\u001B[0m\u001B[1;33m\u001B[0m\u001B[1;33m\u001B[0m\u001B[0m\n\u001B[1;32m---> 23\u001B[1;33m \u001B[0mnx\u001B[0m\u001B[1;33m.\u001B[0m\u001B[0mdraw_networkx\u001B[0m\u001B[1;33m(\u001B[0m\u001B[0mG\u001B[0m\u001B[1;33m,\u001B[0m \u001B[0mpos\u001B[0m\u001B[1;33m)\u001B[0m\u001B[1;33m\u001B[0m\u001B[1;33m\u001B[0m\u001B[0m\n\u001B[0m\u001B[0;32m     24\u001B[0m \u001B[0mplt\u001B[0m\u001B[1;33m.\u001B[0m\u001B[0msavefig\u001B[0m\u001B[1;33m(\u001B[0m\u001B[1;34m'test.pdf'\u001B[0m\u001B[1;33m)\u001B[0m\u001B[1;33m\u001B[0m\u001B[1;33m\u001B[0m\u001B[0m\n",
      "\u001B[1;32m~\\AppData\\Roaming\\Python\\Python38\\site-packages\\networkx\\drawing\\nx_pylab.py\u001B[0m in \u001B[0;36mdraw_networkx\u001B[1;34m(G, pos, arrows, with_labels, **kwds)\u001B[0m\n\u001B[0;32m    278\u001B[0m \u001B[1;33m\u001B[0m\u001B[0m\n\u001B[0;32m    279\u001B[0m     \u001B[0mnode_collection\u001B[0m \u001B[1;33m=\u001B[0m \u001B[0mdraw_networkx_nodes\u001B[0m\u001B[1;33m(\u001B[0m\u001B[0mG\u001B[0m\u001B[1;33m,\u001B[0m \u001B[0mpos\u001B[0m\u001B[1;33m,\u001B[0m \u001B[1;33m**\u001B[0m\u001B[0mkwds\u001B[0m\u001B[1;33m)\u001B[0m\u001B[1;33m\u001B[0m\u001B[1;33m\u001B[0m\u001B[0m\n\u001B[1;32m--> 280\u001B[1;33m     \u001B[0medge_collection\u001B[0m \u001B[1;33m=\u001B[0m \u001B[0mdraw_networkx_edges\u001B[0m\u001B[1;33m(\u001B[0m\u001B[0mG\u001B[0m\u001B[1;33m,\u001B[0m \u001B[0mpos\u001B[0m\u001B[1;33m,\u001B[0m \u001B[0marrows\u001B[0m\u001B[1;33m=\u001B[0m\u001B[0marrows\u001B[0m\u001B[1;33m,\u001B[0m \u001B[1;33m**\u001B[0m\u001B[0mkwds\u001B[0m\u001B[1;33m)\u001B[0m\u001B[1;33m\u001B[0m\u001B[1;33m\u001B[0m\u001B[0m\n\u001B[0m\u001B[0;32m    281\u001B[0m     \u001B[1;32mif\u001B[0m \u001B[0mwith_labels\u001B[0m\u001B[1;33m:\u001B[0m\u001B[1;33m\u001B[0m\u001B[1;33m\u001B[0m\u001B[0m\n\u001B[0;32m    282\u001B[0m         \u001B[0mdraw_networkx_labels\u001B[0m\u001B[1;33m(\u001B[0m\u001B[0mG\u001B[0m\u001B[1;33m,\u001B[0m \u001B[0mpos\u001B[0m\u001B[1;33m,\u001B[0m \u001B[1;33m**\u001B[0m\u001B[0mkwds\u001B[0m\u001B[1;33m)\u001B[0m\u001B[1;33m\u001B[0m\u001B[1;33m\u001B[0m\u001B[0m\n",
      "\u001B[1;32m~\\AppData\\Roaming\\Python\\Python38\\site-packages\\networkx\\drawing\\nx_pylab.py\u001B[0m in \u001B[0;36mdraw_networkx_edges\u001B[1;34m(G, pos, edgelist, width, edge_color, style, alpha, arrowstyle, arrowsize, edge_cmap, edge_vmin, edge_vmax, ax, arrows, label, node_size, nodelist, node_shape, connectionstyle, **kwds)\u001B[0m\n\u001B[0;32m    577\u001B[0m     \u001B[0medge_pos\u001B[0m \u001B[1;33m=\u001B[0m \u001B[0mnp\u001B[0m\u001B[1;33m.\u001B[0m\u001B[0masarray\u001B[0m\u001B[1;33m(\u001B[0m\u001B[1;33m[\u001B[0m\u001B[1;33m(\u001B[0m\u001B[0mpos\u001B[0m\u001B[1;33m[\u001B[0m\u001B[0me\u001B[0m\u001B[1;33m[\u001B[0m\u001B[1;36m0\u001B[0m\u001B[1;33m]\u001B[0m\u001B[1;33m]\u001B[0m\u001B[1;33m,\u001B[0m \u001B[0mpos\u001B[0m\u001B[1;33m[\u001B[0m\u001B[0me\u001B[0m\u001B[1;33m[\u001B[0m\u001B[1;36m1\u001B[0m\u001B[1;33m]\u001B[0m\u001B[1;33m]\u001B[0m\u001B[1;33m)\u001B[0m \u001B[1;32mfor\u001B[0m \u001B[0me\u001B[0m \u001B[1;32min\u001B[0m \u001B[0medgelist\u001B[0m\u001B[1;33m]\u001B[0m\u001B[1;33m)\u001B[0m\u001B[1;33m\u001B[0m\u001B[1;33m\u001B[0m\u001B[0m\n\u001B[0;32m    578\u001B[0m \u001B[1;33m\u001B[0m\u001B[0m\n\u001B[1;32m--> 579\u001B[1;33m     \u001B[1;32mif\u001B[0m \u001B[1;32mnot\u001B[0m \u001B[0mcb\u001B[0m\u001B[1;33m.\u001B[0m\u001B[0miterable\u001B[0m\u001B[1;33m(\u001B[0m\u001B[0mwidth\u001B[0m\u001B[1;33m)\u001B[0m\u001B[1;33m:\u001B[0m\u001B[1;33m\u001B[0m\u001B[1;33m\u001B[0m\u001B[0m\n\u001B[0m\u001B[0;32m    580\u001B[0m         \u001B[0mlw\u001B[0m \u001B[1;33m=\u001B[0m \u001B[1;33m(\u001B[0m\u001B[0mwidth\u001B[0m\u001B[1;33m,\u001B[0m\u001B[1;33m)\u001B[0m\u001B[1;33m\u001B[0m\u001B[1;33m\u001B[0m\u001B[0m\n\u001B[0;32m    581\u001B[0m     \u001B[1;32melse\u001B[0m\u001B[1;33m:\u001B[0m\u001B[1;33m\u001B[0m\u001B[1;33m\u001B[0m\u001B[0m\n",
      "\u001B[1;31mAttributeError\u001B[0m: module 'matplotlib.cbook' has no attribute 'iterable'"
     ]
    },
    {
     "data": {
      "text/plain": "<Figure size 432x288 with 1 Axes>",
      "image/png": "[encoded data removed]"
     },
     "metadata": {},
     "output_type": "display_data"
    }
   ],
   "source": [
    "import networkx as nx\n",
    "import matplotlib.pyplot as plt\n",
    "\n",
    "#create a graph with degrees following a power law distribution\n",
    "\n",
    "#I believe we can eliminate this loop to find s by using the call\n",
    "#nx.utils.create_degree_sequence(100,powerlaw_sequence) with\n",
    "#appropriate modification\n",
    "while True:\n",
    "    s=[]\n",
    "    while len(s)<100:\n",
    "        nextval = int(nx.utils.powerlaw_sequence(1, 2.5)[0]) #100 nodes, power-law exponent 2.5\n",
    "        if nextval!=0:\n",
    "            s.append(nextval)\n",
    "    if sum(s)%2 == 0:\n",
    "        break\n",
    "G = nx.configuration_model(s)\n",
    "G=nx.Graph(G) # remove parallel edges\n",
    "G.remove_edges_from(G.selfloop_edges())\n",
    "\n",
    "#draw and show graph\n",
    "pos = nx.spring_layout(G)\n",
    "nx.draw_networkx(G, pos)\n",
    "plt.savefig('test.pdf')"
   ],
   "metadata": {
    "collapsed": false,
    "pycharm": {
     "name": "#%%\n"
    }
   }
  },
  {
   "cell_type": "code",
   "execution_count": 12,
   "outputs": [
    {
     "ename": "AttributeError",
     "evalue": "module 'matplotlib.cbook' has no attribute 'iterable'",
     "output_type": "error",
     "traceback": [
      "\u001B[1;31m---------------------------------------------------------------------------\u001B[0m",
      "\u001B[1;31mAttributeError\u001B[0m                            Traceback (most recent call last)",
      "\u001B[1;32m<ipython-input-12-5732f342e4b4>\u001B[0m in \u001B[0;36m<module>\u001B[1;34m\u001B[0m\n\u001B[0;32m      4\u001B[0m \u001B[0mBA\u001B[0m \u001B[1;33m=\u001B[0m \u001B[0mne\u001B[0m\u001B[1;33m.\u001B[0m\u001B[0mbarabasi_albert_graph\u001B[0m\u001B[1;33m(\u001B[0m\u001B[1;36m17\u001B[0m\u001B[1;33m,\u001B[0m\u001B[1;36m1\u001B[0m\u001B[1;33m)\u001B[0m\u001B[1;33m\u001B[0m\u001B[1;33m\u001B[0m\u001B[0m\n\u001B[0;32m      5\u001B[0m \u001B[0mps\u001B[0m \u001B[1;33m=\u001B[0m \u001B[0mne\u001B[0m\u001B[1;33m.\u001B[0m\u001B[0mspring_layout\u001B[0m\u001B[1;33m(\u001B[0m\u001B[0mBA\u001B[0m\u001B[1;33m)\u001B[0m\u001B[1;33m\u001B[0m\u001B[1;33m\u001B[0m\u001B[0m\n\u001B[1;32m----> 6\u001B[1;33m \u001B[0mne\u001B[0m\u001B[1;33m.\u001B[0m\u001B[0mdraw\u001B[0m\u001B[1;33m(\u001B[0m\u001B[0mBA\u001B[0m\u001B[1;33m,\u001B[0m\u001B[0mps\u001B[0m\u001B[1;33m,\u001B[0m\u001B[0mwith_labels\u001B[0m\u001B[1;33m=\u001B[0m\u001B[1;32mFalse\u001B[0m\u001B[1;33m,\u001B[0m\u001B[0mnode_size\u001B[0m\u001B[1;33m=\u001B[0m\u001B[1;36m30\u001B[0m\u001B[1;33m)\u001B[0m\u001B[1;33m\u001B[0m\u001B[1;33m\u001B[0m\u001B[0m\n\u001B[0m\u001B[0;32m      7\u001B[0m \u001B[0mmp\u001B[0m\u001B[1;33m.\u001B[0m\u001B[0mshow\u001B[0m\u001B[1;33m(\u001B[0m\u001B[1;33m)\u001B[0m\u001B[1;33m\u001B[0m\u001B[1;33m\u001B[0m\u001B[0m\n",
      "\u001B[1;32m~\\AppData\\Roaming\\Python\\Python38\\site-packages\\networkx\\drawing\\nx_pylab.py\u001B[0m in \u001B[0;36mdraw\u001B[1;34m(G, pos, ax, **kwds)\u001B[0m\n\u001B[0;32m    126\u001B[0m \u001B[1;33m\u001B[0m\u001B[0m\n\u001B[0;32m    127\u001B[0m     \u001B[1;32mtry\u001B[0m\u001B[1;33m:\u001B[0m\u001B[1;33m\u001B[0m\u001B[1;33m\u001B[0m\u001B[0m\n\u001B[1;32m--> 128\u001B[1;33m         \u001B[0mdraw_networkx\u001B[0m\u001B[1;33m(\u001B[0m\u001B[0mG\u001B[0m\u001B[1;33m,\u001B[0m \u001B[0mpos\u001B[0m\u001B[1;33m=\u001B[0m\u001B[0mpos\u001B[0m\u001B[1;33m,\u001B[0m \u001B[0max\u001B[0m\u001B[1;33m=\u001B[0m\u001B[0max\u001B[0m\u001B[1;33m,\u001B[0m \u001B[1;33m**\u001B[0m\u001B[0mkwds\u001B[0m\u001B[1;33m)\u001B[0m\u001B[1;33m\u001B[0m\u001B[1;33m\u001B[0m\u001B[0m\n\u001B[0m\u001B[0;32m    129\u001B[0m         \u001B[0max\u001B[0m\u001B[1;33m.\u001B[0m\u001B[0mset_axis_off\u001B[0m\u001B[1;33m(\u001B[0m\u001B[1;33m)\u001B[0m\u001B[1;33m\u001B[0m\u001B[1;33m\u001B[0m\u001B[0m\n\u001B[0;32m    130\u001B[0m         \u001B[0mplt\u001B[0m\u001B[1;33m.\u001B[0m\u001B[0mdraw_if_interactive\u001B[0m\u001B[1;33m(\u001B[0m\u001B[1;33m)\u001B[0m\u001B[1;33m\u001B[0m\u001B[1;33m\u001B[0m\u001B[0m\n",
      "\u001B[1;32m~\\AppData\\Roaming\\Python\\Python38\\site-packages\\networkx\\drawing\\nx_pylab.py\u001B[0m in \u001B[0;36mdraw_networkx\u001B[1;34m(G, pos, arrows, with_labels, **kwds)\u001B[0m\n\u001B[0;32m    278\u001B[0m \u001B[1;33m\u001B[0m\u001B[0m\n\u001B[0;32m    279\u001B[0m     \u001B[0mnode_collection\u001B[0m \u001B[1;33m=\u001B[0m \u001B[0mdraw_networkx_nodes\u001B[0m\u001B[1;33m(\u001B[0m\u001B[0mG\u001B[0m\u001B[1;33m,\u001B[0m \u001B[0mpos\u001B[0m\u001B[1;33m,\u001B[0m \u001B[1;33m**\u001B[0m\u001B[0mkwds\u001B[0m\u001B[1;33m)\u001B[0m\u001B[1;33m\u001B[0m\u001B[1;33m\u001B[0m\u001B[0m\n\u001B[1;32m--> 280\u001B[1;33m     \u001B[0medge_collection\u001B[0m \u001B[1;33m=\u001B[0m \u001B[0mdraw_networkx_edges\u001B[0m\u001B[1;33m(\u001B[0m\u001B[0mG\u001B[0m\u001B[1;33m,\u001B[0m \u001B[0mpos\u001B[0m\u001B[1;33m,\u001B[0m \u001B[0marrows\u001B[0m\u001B[1;33m=\u001B[0m\u001B[0marrows\u001B[0m\u001B[1;33m,\u001B[0m \u001B[1;33m**\u001B[0m\u001B[0mkwds\u001B[0m\u001B[1;33m)\u001B[0m\u001B[1;33m\u001B[0m\u001B[1;33m\u001B[0m\u001B[0m\n\u001B[0m\u001B[0;32m    281\u001B[0m     \u001B[1;32mif\u001B[0m \u001B[0mwith_labels\u001B[0m\u001B[1;33m:\u001B[0m\u001B[1;33m\u001B[0m\u001B[1;33m\u001B[0m\u001B[0m\n\u001B[0;32m    282\u001B[0m         \u001B[0mdraw_networkx_labels\u001B[0m\u001B[1;33m(\u001B[0m\u001B[0mG\u001B[0m\u001B[1;33m,\u001B[0m \u001B[0mpos\u001B[0m\u001B[1;33m,\u001B[0m \u001B[1;33m**\u001B[0m\u001B[0mkwds\u001B[0m\u001B[1;33m)\u001B[0m\u001B[1;33m\u001B[0m\u001B[1;33m\u001B[0m\u001B[0m\n",
      "\u001B[1;32m~\\AppData\\Roaming\\Python\\Python38\\site-packages\\networkx\\drawing\\nx_pylab.py\u001B[0m in \u001B[0;36mdraw_networkx_edges\u001B[1;34m(G, pos, edgelist, width, edge_color, style, alpha, arrowstyle, arrowsize, edge_cmap, edge_vmin, edge_vmax, ax, arrows, label, node_size, nodelist, node_shape, connectionstyle, **kwds)\u001B[0m\n\u001B[0;32m    577\u001B[0m     \u001B[0medge_pos\u001B[0m \u001B[1;33m=\u001B[0m \u001B[0mnp\u001B[0m\u001B[1;33m.\u001B[0m\u001B[0masarray\u001B[0m\u001B[1;33m(\u001B[0m\u001B[1;33m[\u001B[0m\u001B[1;33m(\u001B[0m\u001B[0mpos\u001B[0m\u001B[1;33m[\u001B[0m\u001B[0me\u001B[0m\u001B[1;33m[\u001B[0m\u001B[1;36m0\u001B[0m\u001B[1;33m]\u001B[0m\u001B[1;33m]\u001B[0m\u001B[1;33m,\u001B[0m \u001B[0mpos\u001B[0m\u001B[1;33m[\u001B[0m\u001B[0me\u001B[0m\u001B[1;33m[\u001B[0m\u001B[1;36m1\u001B[0m\u001B[1;33m]\u001B[0m\u001B[1;33m]\u001B[0m\u001B[1;33m)\u001B[0m \u001B[1;32mfor\u001B[0m \u001B[0me\u001B[0m \u001B[1;32min\u001B[0m \u001B[0medgelist\u001B[0m\u001B[1;33m]\u001B[0m\u001B[1;33m)\u001B[0m\u001B[1;33m\u001B[0m\u001B[1;33m\u001B[0m\u001B[0m\n\u001B[0;32m    578\u001B[0m \u001B[1;33m\u001B[0m\u001B[0m\n\u001B[1;32m--> 579\u001B[1;33m     \u001B[1;32mif\u001B[0m \u001B[1;32mnot\u001B[0m \u001B[0mcb\u001B[0m\u001B[1;33m.\u001B[0m\u001B[0miterable\u001B[0m\u001B[1;33m(\u001B[0m\u001B[0mwidth\u001B[0m\u001B[1;33m)\u001B[0m\u001B[1;33m:\u001B[0m\u001B[1;33m\u001B[0m\u001B[1;33m\u001B[0m\u001B[0m\n\u001B[0m\u001B[0;32m    580\u001B[0m         \u001B[0mlw\u001B[0m \u001B[1;33m=\u001B[0m \u001B[1;33m(\u001B[0m\u001B[0mwidth\u001B[0m\u001B[1;33m,\u001B[0m\u001B[1;33m)\u001B[0m\u001B[1;33m\u001B[0m\u001B[1;33m\u001B[0m\u001B[0m\n\u001B[0;32m    581\u001B[0m     \u001B[1;32melse\u001B[0m\u001B[1;33m:\u001B[0m\u001B[1;33m\u001B[0m\u001B[1;33m\u001B[0m\u001B[0m\n",
      "\u001B[1;31mAttributeError\u001B[0m: module 'matplotlib.cbook' has no attribute 'iterable'"
     ]
    },
    {
     "data": {
      "text/plain": "<Figure size 432x288 with 1 Axes>",
      "image/png": "[encoded data removed]"
     },
     "metadata": {},
     "output_type": "display_data"
    }
   ],
   "source": [
    "import networkx as ne\n",
    "import matplotlib.pyplot as mp\n",
    "\n",
    "BA = ne.barabasi_albert_graph(17,1)\n",
    "ps = ne.spring_layout(BA)\n",
    "ne.draw(BA,ps,with_labels=False,node_size=30)\n",
    "mp.show()"
   ],
   "metadata": {
    "collapsed": false,
    "pycharm": {
     "name": "#%%\n"
    }
   }
  },
  {
   "cell_type": "code",
   "execution_count": 11,
   "outputs": [],
   "source": [],
   "metadata": {
    "collapsed": false,
    "pycharm": {
     "name": "#%%\n"
    }
   }
  },
  {
   "cell_type": "code",
   "execution_count": null,
   "outputs": [],
   "source": [],
   "metadata": {
    "collapsed": false,
    "pycharm": {
     "name": "#%%\n"
    }
   }
  }
 ],
 "metadata": {
  "kernelspec": {
   "display_name": "Python 3",
   "language": "python",
   "name": "python3"
  },
  "language_info": {
   "codemirror_mode": {
    "name": "ipython",
    "version": 2
   },
   "file_extension": ".py",
   "mimetype": "text/x-python",
   "name": "python",
   "nbconvert_exporter": "python",
   "pygments_lexer": "ipython2",
   "version": "2.7.6"
  }
 },
 "nbformat": 4,
 "nbformat_minor": 0
}