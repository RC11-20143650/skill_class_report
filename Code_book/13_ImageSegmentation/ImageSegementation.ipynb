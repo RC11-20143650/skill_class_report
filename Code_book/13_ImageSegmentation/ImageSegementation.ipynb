{
 "nbformat": 4,
 "nbformat_minor": 0,
 "metadata": {
  "colab": {
   "name": "ImageSegementation.ipynb",
   "provenance": [],
   "collapsed_sections": []
  },
  "kernelspec": {
   "name": "python3",
   "display_name": "Python 3"
  },
  "language_info": {
   "name": "python"
  }
 },
 "cells": [
  {
   "cell_type": "markdown",
   "source": [
    "https://towardsdatascience.com/semantic-segmentation-of-150-classes-of-objects-with-5-lines-of-code-7f244fa96b6c\n"
   ],
   "metadata": {
    "id": "7R5XoZ18L-jq"
   }
  },
  {
   "cell_type": "code",
   "execution_count": 14,
   "metadata": {
    "colab": {
     "base_uri": "https://localhost:8080/"
    },
    "id": "Os5jcKNHGF-H",
    "outputId": "d95a2fdb-5d8a-4d9b-e81f-dc63555c5e04"
   },
   "outputs": [
    {
     "name": "stdout",
     "output_type": "stream",
     "text": [
      "Requirement already satisfied: tensorflow in c:\\users\\qq809\\anaconda3\\lib\\site-packages (2.7.0)\n",
      "Requirement already satisfied: google-pasta>=0.1.1 in c:\\users\\qq809\\anaconda3\\lib\\site-packages (from tensorflow) (0.2.0)\n",
      "Requirement already satisfied: libclang>=9.0.1 in c:\\users\\qq809\\anaconda3\\lib\\site-packages (from tensorflow) (12.0.0)\n",
      "Requirement already satisfied: keras-preprocessing>=1.1.1 in c:\\users\\qq809\\anaconda3\\lib\\site-packages (from tensorflow) (1.1.2)\n",
      "Requirement already satisfied: opt-einsum>=2.3.2 in c:\\users\\qq809\\anaconda3\\lib\\site-packages (from tensorflow) (3.3.0)\n",
      "Requirement already satisfied: six>=1.12.0 in c:\\users\\qq809\\anaconda3\\lib\\site-packages (from tensorflow) (1.15.0)\n",
      "Requirement already satisfied: absl-py>=0.4.0 in c:\\users\\qq809\\anaconda3\\lib\\site-packages (from tensorflow) (1.0.0)\n",
      "Requirement already satisfied: tensorboard~=2.6 in c:\\users\\qq809\\anaconda3\\lib\\site-packages (from tensorflow) (2.8.0)\n",
      "Requirement already satisfied: h5py>=2.9.0 in c:\\users\\qq809\\anaconda3\\lib\\site-packages (from tensorflow) (2.10.0)\n",
      "Requirement already satisfied: numpy>=1.14.5 in c:\\users\\qq809\\anaconda3\\lib\\site-packages (from tensorflow) (1.20.1)\n",
      "Requirement already satisfied: grpcio<2.0,>=1.24.3 in c:\\users\\qq809\\anaconda3\\lib\\site-packages (from tensorflow) (1.43.0)\n",
      "Requirement already satisfied: gast<0.5.0,>=0.2.1 in c:\\users\\qq809\\anaconda3\\lib\\site-packages (from tensorflow) (0.4.0)\n",
      "Requirement already satisfied: termcolor>=1.1.0 in c:\\users\\qq809\\anaconda3\\lib\\site-packages (from tensorflow) (1.1.0)\n",
      "Requirement already satisfied: astunparse>=1.6.0 in c:\\users\\qq809\\anaconda3\\lib\\site-packages (from tensorflow) (1.6.3)\n",
      "Requirement already satisfied: wrapt>=1.11.0 in c:\\users\\qq809\\anaconda3\\lib\\site-packages (from tensorflow) (1.12.1)\n",
      "Requirement already satisfied: wheel<1.0,>=0.32.0 in c:\\users\\qq809\\anaconda3\\lib\\site-packages (from tensorflow) (0.36.2)\n",
      "Requirement already satisfied: tensorflow-estimator<2.8,~=2.7.0rc0 in c:\\users\\qq809\\anaconda3\\lib\\site-packages (from tensorflow) (2.7.0)\n",
      "Requirement already satisfied: protobuf>=3.9.2 in c:\\users\\qq809\\anaconda3\\lib\\site-packages (from tensorflow) (3.19.3)\n",
      "Requirement already satisfied: tensorflow-io-gcs-filesystem>=0.21.0 in c:\\users\\qq809\\anaconda3\\lib\\site-packages (from tensorflow) (0.23.1)\n",
      "Requirement already satisfied: keras<2.8,>=2.7.0rc0 in c:\\users\\qq809\\anaconda3\\lib\\site-packages (from tensorflow) (2.7.0)\n",
      "Requirement already satisfied: flatbuffers<3.0,>=1.12 in c:\\users\\qq809\\anaconda3\\lib\\site-packages (from tensorflow) (2.0)\n",
      "Requirement already satisfied: typing-extensions>=3.6.6 in c:\\users\\qq809\\anaconda3\\lib\\site-packages (from tensorflow) (3.7.4.3)\n",
      "Requirement already satisfied: tensorboard-data-server<0.7.0,>=0.6.0 in c:\\users\\qq809\\anaconda3\\lib\\site-packages (from tensorboard~=2.6->tensorflow) (0.6.1)\n",
      "Requirement already satisfied: werkzeug>=0.11.15 in c:\\users\\qq809\\anaconda3\\lib\\site-packages (from tensorboard~=2.6->tensorflow) (1.0.1)\n",
      "Requirement already satisfied: setuptools>=41.0.0 in c:\\users\\qq809\\anaconda3\\lib\\site-packages (from tensorboard~=2.6->tensorflow) (52.0.0.post20210125)\n",
      "Requirement already satisfied: google-auth<3,>=1.6.3 in c:\\users\\qq809\\anaconda3\\lib\\site-packages (from tensorboard~=2.6->tensorflow) (2.3.3)\n",
      "Requirement already satisfied: requests<3,>=2.21.0 in c:\\users\\qq809\\anaconda3\\lib\\site-packages (from tensorboard~=2.6->tensorflow) (2.25.1)\n",
      "Requirement already satisfied: markdown>=2.6.8 in c:\\users\\qq809\\anaconda3\\lib\\site-packages (from tensorboard~=2.6->tensorflow) (3.3.6)\n",
      "Requirement already satisfied: google-auth-oauthlib<0.5,>=0.4.1 in c:\\users\\qq809\\anaconda3\\lib\\site-packages (from tensorboard~=2.6->tensorflow) (0.4.6)\n",
      "Requirement already satisfied: tensorboard-plugin-wit>=1.6.0 in c:\\users\\qq809\\anaconda3\\lib\\site-packages (from tensorboard~=2.6->tensorflow) (1.8.1)\n",
      "Requirement already satisfied: cachetools<5.0,>=2.0.0 in c:\\users\\qq809\\anaconda3\\lib\\site-packages (from google-auth<3,>=1.6.3->tensorboard~=2.6->tensorflow) (4.2.4)\n",
      "Requirement already satisfied: pyasn1-modules>=0.2.1 in c:\\users\\qq809\\anaconda3\\lib\\site-packages (from google-auth<3,>=1.6.3->tensorboard~=2.6->tensorflow) (0.2.8)\n",
      "Requirement already satisfied: rsa<5,>=3.1.4 in c:\\users\\qq809\\anaconda3\\lib\\site-packages (from google-auth<3,>=1.6.3->tensorboard~=2.6->tensorflow) (4.8)\n",
      "Requirement already satisfied: requests-oauthlib>=0.7.0 in c:\\users\\qq809\\anaconda3\\lib\\site-packages (from google-auth-oauthlib<0.5,>=0.4.1->tensorboard~=2.6->tensorflow) (1.3.0)\n",
      "Requirement already satisfied: importlib-metadata>=4.4 in c:\\users\\qq809\\anaconda3\\lib\\site-packages (from markdown>=2.6.8->tensorboard~=2.6->tensorflow) (4.10.1)\n",
      "Requirement already satisfied: zipp>=0.5 in c:\\users\\qq809\\anaconda3\\lib\\site-packages (from importlib-metadata>=4.4->markdown>=2.6.8->tensorboard~=2.6->tensorflow) (3.4.1)\n",
      "Requirement already satisfied: pyasn1<0.5.0,>=0.4.6 in c:\\users\\qq809\\anaconda3\\lib\\site-packages (from pyasn1-modules>=0.2.1->google-auth<3,>=1.6.3->tensorboard~=2.6->tensorflow) (0.4.8)\n",
      "Requirement already satisfied: idna<3,>=2.5 in c:\\users\\qq809\\anaconda3\\lib\\site-packages (from requests<3,>=2.21.0->tensorboard~=2.6->tensorflow) (2.10)\n",
      "Requirement already satisfied: certifi>=2017.4.17 in c:\\users\\qq809\\anaconda3\\lib\\site-packages (from requests<3,>=2.21.0->tensorboard~=2.6->tensorflow) (2021.10.8)\n",
      "Requirement already satisfied: chardet<5,>=3.0.2 in c:\\users\\qq809\\anaconda3\\lib\\site-packages (from requests<3,>=2.21.0->tensorboard~=2.6->tensorflow) (4.0.0)\n",
      "Requirement already satisfied: urllib3<1.27,>=1.21.1 in c:\\users\\qq809\\anaconda3\\lib\\site-packages (from requests<3,>=2.21.0->tensorboard~=2.6->tensorflow) (1.26.4)\n",
      "Requirement already satisfied: oauthlib>=3.0.0 in c:\\users\\qq809\\anaconda3\\lib\\site-packages (from requests-oauthlib>=0.7.0->google-auth-oauthlib<0.5,>=0.4.1->tensorboard~=2.6->tensorflow) (3.1.1)\n"
     ]
    }
   ],
   "source": [
    "!pip install tensorflow"
   ]
  },
  {
   "cell_type": "code",
   "source": [
    "!pip install pixellib"
   ],
   "metadata": {
    "colab": {
     "base_uri": "https://localhost:8080/",
     "height": 1000
    },
    "id": "PtJfNwgDG6hM",
    "outputId": "f8eb5e9e-f57e-47df-ebe2-426c9ac7e349"
   },
   "execution_count": 13,
   "outputs": [
    {
     "name": "stdout",
     "output_type": "stream",
     "text": [
      "Requirement already satisfied: pixellib in c:\\users\\qq809\\anaconda3\\lib\\site-packages (0.7.1)\n",
      "Requirement already satisfied: cloudpickle in c:\\users\\qq809\\anaconda3\\lib\\site-packages (from pixellib) (1.6.0)\n",
      "Requirement already satisfied: opencv-python in c:\\users\\qq809\\anaconda3\\lib\\site-packages (from pixellib) (4.5.5.64)\n",
      "Requirement already satisfied: Cython in c:\\users\\qq809\\anaconda3\\lib\\site-packages (from pixellib) (0.29.23)\n",
      "Requirement already satisfied: pillow in c:\\users\\qq809\\anaconda3\\lib\\site-packages (from pixellib) (8.2.0)\n",
      "Requirement already satisfied: imgaug in c:\\users\\qq809\\anaconda3\\lib\\site-packages (from pixellib) (0.4.0)\n",
      "Requirement already satisfied: iopath in c:\\users\\qq809\\anaconda3\\lib\\site-packages (from pixellib) (0.1.9)\n",
      "Requirement already satisfied: hydra-core in c:\\users\\qq809\\anaconda3\\lib\\site-packages (from pixellib) (1.1.2)\n",
      "Requirement already satisfied: tqdm in c:\\users\\qq809\\anaconda3\\lib\\site-packages (from pixellib) (4.59.0)\n",
      "Requirement already satisfied: matplotlib in c:\\users\\qq809\\anaconda3\\lib\\site-packages (from pixellib) (3.5.1)\n",
      "Requirement already satisfied: dataclasses in c:\\users\\qq809\\anaconda3\\lib\\site-packages (from pixellib) (0.6)\n",
      "Requirement already satisfied: future in c:\\users\\qq809\\anaconda3\\lib\\site-packages (from pixellib) (0.18.2)\n",
      "Requirement already satisfied: black in c:\\users\\qq809\\anaconda3\\lib\\site-packages (from pixellib) (19.10b0)\n",
      "Requirement already satisfied: labelme2coco in c:\\users\\qq809\\anaconda3\\lib\\site-packages (from pixellib) (0.2.1)\n",
      "Requirement already satisfied: pyQt5 in c:\\users\\qq809\\anaconda3\\lib\\site-packages (from pixellib) (5.15.6)\n",
      "Requirement already satisfied: yacs in c:\\users\\qq809\\anaconda3\\lib\\site-packages (from pixellib) (0.1.8)\n",
      "Requirement already satisfied: tabulate in c:\\users\\qq809\\anaconda3\\lib\\site-packages (from pixellib) (0.8.9)\n",
      "Requirement already satisfied: pydot in c:\\users\\qq809\\anaconda3\\lib\\site-packages (from pixellib) (1.4.2)\n",
      "Requirement already satisfied: fvcore in c:\\users\\qq809\\anaconda3\\lib\\site-packages (from pixellib) (0.1.5.post20220506)\n",
      "Requirement already satisfied: omegaconf in c:\\users\\qq809\\anaconda3\\lib\\site-packages (from pixellib) (2.1.2)\n",
      "Requirement already satisfied: termcolor in c:\\users\\qq809\\anaconda3\\lib\\site-packages (from pixellib) (1.1.0)\n",
      "Requirement already satisfied: scikit-image in c:\\users\\qq809\\anaconda3\\lib\\site-packages (from pixellib) (0.18.1)\n",
      "Requirement already satisfied: imantics in c:\\users\\qq809\\anaconda3\\lib\\site-packages (from pixellib) (0.1.12)\n",
      "Requirement already satisfied: regex in c:\\users\\qq809\\anaconda3\\lib\\site-packages (from black->pixellib) (2021.4.4)\n",
      "Requirement already satisfied: click>=6.5 in c:\\users\\qq809\\anaconda3\\lib\\site-packages (from black->pixellib) (8.0.4)\n",
      "Requirement already satisfied: attrs>=18.1.0 in c:\\users\\qq809\\anaconda3\\lib\\site-packages (from black->pixellib) (20.3.0)\n",
      "Requirement already satisfied: typed-ast>=1.4.0 in c:\\users\\qq809\\anaconda3\\lib\\site-packages (from black->pixellib) (1.4.2)\n",
      "Requirement already satisfied: pathspec<1,>=0.6 in c:\\users\\qq809\\anaconda3\\lib\\site-packages (from black->pixellib) (0.7.0)\n",
      "Requirement already satisfied: appdirs in c:\\users\\qq809\\anaconda3\\lib\\site-packages (from black->pixellib) (1.4.4)\n",
      "Requirement already satisfied: toml>=0.9.4 in c:\\users\\qq809\\anaconda3\\lib\\site-packages (from black->pixellib) (0.10.2)\n",
      "Requirement already satisfied: colorama in c:\\users\\qq809\\anaconda3\\lib\\site-packages (from click>=6.5->black->pixellib) (0.4.4)\n",
      "Requirement already satisfied: pyyaml>=5.1 in c:\\users\\qq809\\anaconda3\\lib\\site-packages (from fvcore->pixellib) (5.4.1)\n",
      "Requirement already satisfied: numpy in c:\\users\\qq809\\anaconda3\\lib\\site-packages (from fvcore->pixellib) (1.20.1)\n",
      "Requirement already satisfied: portalocker in c:\\users\\qq809\\anaconda3\\lib\\site-packages (from iopath->pixellib) (2.4.0)\n",
      "Requirement already satisfied: antlr4-python3-runtime==4.8 in c:\\users\\qq809\\anaconda3\\lib\\site-packages (from hydra-core->pixellib) (4.8)\n",
      "Requirement already satisfied: importlib-resources<5.3 in c:\\users\\qq809\\anaconda3\\lib\\site-packages (from hydra-core->pixellib) (5.2.3)\n",
      "Requirement already satisfied: zipp>=3.1.0 in c:\\users\\qq809\\anaconda3\\lib\\site-packages (from importlib-resources<5.3->hydra-core->pixellib) (3.4.1)\n",
      "Requirement already satisfied: lxml in c:\\users\\qq809\\anaconda3\\lib\\site-packages (from imantics->pixellib) (4.6.3)\n",
      "Requirement already satisfied: xmljson in c:\\users\\qq809\\anaconda3\\lib\\site-packages (from imantics->pixellib) (0.2.1)\n",
      "Requirement already satisfied: six in c:\\users\\qq809\\anaconda3\\lib\\site-packages (from imgaug->pixellib) (1.15.0)\n",
      "Requirement already satisfied: Shapely in c:\\users\\qq809\\anaconda3\\lib\\site-packages (from imgaug->pixellib) (1.8.2)\n",
      "Requirement already satisfied: scipy in c:\\users\\qq809\\anaconda3\\lib\\site-packages (from imgaug->pixellib) (1.6.2)\n",
      "Requirement already satisfied: imageio in c:\\users\\qq809\\anaconda3\\lib\\site-packages (from imgaug->pixellib) (2.9.0)\n",
      "Requirement already satisfied: networkx>=2.0 in c:\\users\\qq809\\anaconda3\\lib\\site-packages (from scikit-image->pixellib) (2.7.1)\n",
      "Requirement already satisfied: tifffile>=2019.7.26 in c:\\users\\qq809\\anaconda3\\lib\\site-packages (from scikit-image->pixellib) (2021.4.8)\n",
      "Requirement already satisfied: PyWavelets>=1.1.1 in c:\\users\\qq809\\anaconda3\\lib\\site-packages (from scikit-image->pixellib) (1.1.1)\n",
      "Requirement already satisfied: cycler>=0.10 in c:\\users\\qq809\\anaconda3\\lib\\site-packages (from matplotlib->pixellib) (0.10.0)\n",
      "Requirement already satisfied: python-dateutil>=2.7 in c:\\users\\qq809\\anaconda3\\lib\\site-packages (from matplotlib->pixellib) (2.8.1)\n",
      "Requirement already satisfied: packaging>=20.0 in c:\\users\\qq809\\anaconda3\\lib\\site-packages (from matplotlib->pixellib) (20.9)\n",
      "Requirement already satisfied: kiwisolver>=1.0.1 in c:\\users\\qq809\\anaconda3\\lib\\site-packages (from matplotlib->pixellib) (1.3.1)\n",
      "Requirement already satisfied: fonttools>=4.22.0 in c:\\users\\qq809\\anaconda3\\lib\\site-packages (from matplotlib->pixellib) (4.29.1)\n",
      "Requirement already satisfied: pyparsing>=2.2.1 in c:\\users\\qq809\\anaconda3\\lib\\site-packages (from matplotlib->pixellib) (2.4.7)\n",
      "Requirement already satisfied: jsonschema>=2.6.0 in c:\\users\\qq809\\anaconda3\\lib\\site-packages (from labelme2coco->pixellib) (3.2.0)\n",
      "Requirement already satisfied: sahi>=0.8.19 in c:\\users\\qq809\\anaconda3\\lib\\site-packages (from labelme2coco->pixellib) (0.9.3)\n",
      "Requirement already satisfied: pyrsistent>=0.14.0 in c:\\users\\qq809\\anaconda3\\lib\\site-packages (from jsonschema>=2.6.0->labelme2coco->pixellib) (0.17.3)\n",
      "Requirement already satisfied: setuptools in c:\\users\\qq809\\anaconda3\\lib\\site-packages (from jsonschema>=2.6.0->labelme2coco->pixellib) (52.0.0.post20210125)\n",
      "Requirement already satisfied: terminaltables in c:\\users\\qq809\\anaconda3\\lib\\site-packages (from sahi>=0.8.19->labelme2coco->pixellib) (3.1.10)\n",
      "Requirement already satisfied: fire in c:\\users\\qq809\\anaconda3\\lib\\site-packages (from sahi>=0.8.19->labelme2coco->pixellib) (0.4.0)\n",
      "Requirement already satisfied: requests in c:\\users\\qq809\\anaconda3\\lib\\site-packages (from sahi>=0.8.19->labelme2coco->pixellib) (2.25.1)\n",
      "Requirement already satisfied: pywin32>=226 in c:\\users\\qq809\\anaconda3\\lib\\site-packages (from portalocker->iopath->pixellib) (227)\n",
      "Requirement already satisfied: PyQt5-sip<13,>=12.8 in c:\\users\\qq809\\anaconda3\\lib\\site-packages (from pyQt5->pixellib) (12.10.1)\n",
      "Requirement already satisfied: PyQt5-Qt5>=5.15.2 in c:\\users\\qq809\\anaconda3\\lib\\site-packages (from pyQt5->pixellib) (5.15.2)\n",
      "Requirement already satisfied: urllib3<1.27,>=1.21.1 in c:\\users\\qq809\\anaconda3\\lib\\site-packages (from requests->sahi>=0.8.19->labelme2coco->pixellib) (1.26.4)\n",
      "Requirement already satisfied: certifi>=2017.4.17 in c:\\users\\qq809\\anaconda3\\lib\\site-packages (from requests->sahi>=0.8.19->labelme2coco->pixellib) (2021.10.8)\n",
      "Requirement already satisfied: chardet<5,>=3.0.2 in c:\\users\\qq809\\anaconda3\\lib\\site-packages (from requests->sahi>=0.8.19->labelme2coco->pixellib) (4.0.0)\n",
      "Requirement already satisfied: idna<3,>=2.5 in c:\\users\\qq809\\anaconda3\\lib\\site-packages (from requests->sahi>=0.8.19->labelme2coco->pixellib) (2.10)\n"
     ]
    }
   ]
  },
  {
   "cell_type": "code",
   "source": [
    "!pip install h5py==2.10.0"
   ],
   "metadata": {
    "colab": {
     "base_uri": "https://localhost:8080/"
    },
    "id": "vyLfNykcJS4C",
    "outputId": "a6ccb697-537f-488e-b96c-4757bdcd3746"
   },
   "execution_count": 3,
   "outputs": [
    {
     "name": "stdout",
     "output_type": "stream",
     "text": [
      "Requirement already satisfied: h5py==2.10.0 in c:\\users\\qq809\\anaconda3\\lib\\site-packages (2.10.0)\n",
      "Requirement already satisfied: six in c:\\users\\qq809\\anaconda3\\lib\\site-packages (from h5py==2.10.0) (1.15.0)\n",
      "Requirement already satisfied: numpy>=1.7 in c:\\users\\qq809\\anaconda3\\lib\\site-packages (from h5py==2.10.0) (1.20.1)\n"
     ]
    }
   ]
  },
  {
   "cell_type": "code",
   "source": [
    "import pixellib\n",
    "from pixellib.semantic import semantic_segmentation\n",
    "\n",
    "segment_image = semantic_segmentation()\n",
    "segment_image.load_ade20k_model(\"deeplabv3_xception65_ade20k.h5\")\n",
    "segment_image.segmentAsAde20k(\"sample_data/london.jpg\", output_image_name= \"sample_data/test1out.jpeg\", overlay = True)"
   ],
   "metadata": {
    "colab": {
     "base_uri": "https://localhost:8080/"
    },
    "id": "7grn34VqG-_F",
    "outputId": "5a4979a4-6e64-4096-f97e-cef2678059a6"
   },
   "execution_count": 5,
   "outputs": [
    {
     "name": "stdout",
     "output_type": "stream",
     "text": [
      "Processed Image saved successfully in your current working directory.\n"
     ]
    },
    {
     "data": {
      "text/plain": "({'class_ids': [2, 3, 12, 13, 7, 85, 5, 14, 103, 21, 88, 149, 1, 84, 101],\n  'class_names': ['building',\n   'sky',\n   'sidewalk',\n   'person',\n   'road',\n   'tower',\n   'tree',\n   'earth',\n   'van',\n   'car',\n   'streetlight',\n   'clock',\n   'wall',\n   'truck',\n   'poster'],\n  'class_colors': [array([180, 120, 120]),\n   array([  6, 230, 230]),\n   array([235, 255,   7]),\n   array([150,   5,  61]),\n   array([140, 140, 140]),\n   array([255, 184, 184]),\n   array([  4, 200,   3]),\n   array([120, 120,  70]),\n   array([163, 255,   0]),\n   array([  0, 102, 200]),\n   array([  0,  71, 255]),\n   array([102, 255,   0]),\n   array([120, 120, 120]),\n   array([255,   0,  20]),\n   array([143, 255,   0])],\n  'masks': array([[False, False, False, ..., False, False, False],\n         [False, False, False, ..., False, False, False],\n         [False, False, False, ..., False, False, False],\n         ...,\n         [False, False, False, ..., False, False, False],\n         [False, False, False, ..., False, False, False],\n         [False, False, False, ..., False, False, False]]),\n  'ratios': [28.46006689882698,\n   22.498167155425218,\n   14.55049486803519,\n   13.92274560117302,\n   9.436285740469208,\n   3.1639479472140764,\n   2.5677006964809386,\n   2.296783357771261,\n   1.2686721041055717,\n   1.085387646627566,\n   0.4490469208211144,\n   0.2245234604105572,\n   0.05727639296187684,\n   0.015464626099706745,\n   0.0034365835777126104]},\n array([[[227, 228,  71],\n         [227, 228,  71],\n         [228, 229,  72],\n         ...,\n         [102, 103, 146],\n         [100, 100, 144],\n         [ 99,  99, 142]],\n \n        [[227, 228,  71],\n         [228, 228,  71],\n         [228, 229,  72],\n         ...,\n         [ 98,  98, 141],\n         [ 99,  99, 142],\n         [101, 101, 144]],\n \n        [[227, 228,  71],\n         [228, 228,  71],\n         [228, 229,  72],\n         ...,\n         [104, 104, 147],\n         [108, 108, 151],\n         [110, 108, 151]],\n \n        ...,\n \n        [[ 39, 212, 192],\n         [ 40, 212, 192],\n         [ 40, 212, 192],\n         ...,\n         [ 81, 112, 107],\n         [ 85, 117, 112],\n         [ 80, 113, 108]],\n \n        [[ 40, 212, 192],\n         [ 40, 212, 192],\n         [ 40, 212, 192],\n         ...,\n         [ 80, 110, 106],\n         [ 79, 111, 107],\n         [ 76, 110, 105]],\n \n        [[ 40, 212, 192],\n         [ 40, 212, 192],\n         [ 40, 212, 192],\n         ...,\n         [ 75, 106, 102],\n         [ 76, 108, 104],\n         [ 80, 113, 109]]], dtype=uint8))"
     },
     "execution_count": 5,
     "metadata": {},
     "output_type": "execute_result"
    }
   ]
  },
  {
   "cell_type": "code",
   "source": [
    "import pixellib\n",
    "from pixellib.semantic import semantic_segmentation\n",
    "import cv2\n",
    "import os\n",
    "\n",
    "segment_image = semantic_segmentation()\n",
    "segment_image.load_ade20k_model(\"deeplabv3_xception65_ade20k.h5\")"
   ],
   "metadata": {
    "colab": {
     "base_uri": "https://localhost:8080/"
    },
    "id": "XMobxmFlKgYz",
    "outputId": "45248ac2-eb03-404f-91a3-7eaf8e461513"
   },
   "execution_count": 12,
   "outputs": []
  },
  {
   "cell_type": "code",
   "source": [
    "images = os.listdir('Images')\n",
    "files = []\n",
    "for i in images:\n",
    "  splitI = i.split('.')\n",
    "  if len(splitI) > 1 and splitI[1] == 'jpg' or splitI[1] == 'png' or splitI[1] == 'jpeg':\n",
    "    files.append('Images/'+i)\n",
    "\n",
    "counter = 0\n",
    "for file in files:\n",
    "  segmap, seg_overlay = segment_image.segmentAsAde20k(file, overlay = True)\n",
    "  cv2.imwrite(\"img\"+str(counter)+\".jpg\", seg_overlay)\n",
    "  print(seg_overlay.shape)\n",
    "  print(segmap)\n",
    "  counter += 1"
   ],
   "metadata": {
    "id": "X-SGOTN9N1Br"
   },
   "execution_count": 13,
   "outputs": [
    {
     "name": "stdout",
     "output_type": "stream",
     "text": [
      "(480, 640, 3)\n",
      "{'class_ids': [2, 12, 3, 5, 13, 7, 70, 44, 94, 116, 88, 81, 124, 117, 21], 'class_names': ['building', 'sidewalk', 'sky', 'tree', 'person', 'road', 'bench', 'signboard', 'pole', 'bag', 'streetlight', 'bus', 'trade', 'minibike', 'car'], 'class_colors': [array([180, 120, 120]), array([235, 255,   7]), array([  6, 230, 230]), array([  4, 200,   3]), array([150,   5,  61]), array([140, 140, 140]), array([194, 255,   0]), array([255,   5, 153]), array([ 51,   0, 255]), array([ 70, 184, 160]), array([  0,  71, 255]), array([255,   0, 245]), array([133, 255,   0]), array([163,   0, 255]), array([  0, 102, 200])], 'masks': array([[False, False, False, ..., False, False, False],\n",
      "       [False, False, False, ..., False, False, False],\n",
      "       [False, False, False, ..., False, False, False],\n",
      "       ...,\n",
      "       [False, False, False, ..., False, False, False],\n",
      "       [False, False, False, ..., False, False, False],\n",
      "       [False, False, False, ..., False, False, False]]), 'ratios': [28.699239095052082, 22.050984700520836, 15.768941243489584, 11.655171712239582, 8.475240071614582, 5.634053548177084, 3.8121541341145835, 2.056376139322917, 0.97503662109375, 0.4323323567708333, 0.18513997395833331, 0.13173421223958331, 0.10732014973958333, 0.011698404947916668, 0.00457763671875]}\n",
      "(720, 1280, 3)\n",
      "{'class_ids': [2, 12, 7, 3, 21, 13, 87, 44, 94, 88, 124, 84], 'class_names': ['building', 'sidewalk', 'road', 'sky', 'car', 'person', 'awning', 'signboard', 'pole', 'streetlight', 'trade', 'truck'], 'class_colors': [array([180, 120, 120]), array([235, 255,   7]), array([140, 140, 140]), array([  6, 230, 230]), array([  0, 102, 200]), array([150,   5,  61]), array([  0, 255,  61]), array([255,   5, 153]), array([ 51,   0, 255]), array([  0,  71, 255]), array([133, 255,   0]), array([255,   0,  20])], 'masks': array([[False, False, False, ..., False, False, False],\n",
      "       [False, False, False, ..., False, False, False],\n",
      "       [False, False, False, ..., False, False, False],\n",
      "       ...,\n",
      "       [False, False, False, ..., False, False, False],\n",
      "       [False, False, False, ..., False, False, False],\n",
      "       [False, False, False, ..., False, False, False]]), 'ratios': [39.25984700520833, 24.009195963541664, 10.010443793402777, 8.90163845486111, 8.39504665798611, 6.520589192708333, 1.3231065538194444, 0.9379069010416666, 0.3675672743055555, 0.1125759548611111, 0.1064724392361111, 0.055609809027777776]}\n",
      "(480, 640, 3)\n",
      "{'class_ids': [2, 3, 12, 13, 7, 21, 44, 88, 116, 94, 33, 139, 5, 137], 'class_names': ['building', 'sky', 'sidewalk', 'person', 'road', 'car', 'signboard', 'streetlight', 'bag', 'pole', 'fence', 'ashcan', 'tree', 'traffic'], 'class_colors': [array([180, 120, 120]), array([  6, 230, 230]), array([235, 255,   7]), array([150,   5,  61]), array([140, 140, 140]), array([  0, 102, 200]), array([255,   5, 153]), array([  0,  71, 255]), array([ 70, 184, 160]), array([ 51,   0, 255]), array([255, 184,   6]), array([173,   0, 255]), array([  4, 200,   3]), array([ 41,   0, 255])], 'masks': array([[False, False, False, ..., False, False, False],\n",
      "       [False, False, False, ..., False, False, False],\n",
      "       [False, False, False, ..., False, False, False],\n",
      "       ...,\n",
      "       [False, False, False, ..., False, False, False],\n",
      "       [False, False, False, ..., False, False, False],\n",
      "       [False, False, False, ..., False, False, False]]), 'ratios': [32.08363850911458, 27.05535888671875, 16.83197021484375, 8.675130208333332, 8.562723795572918, 2.988688151041667, 2.148946126302083, 0.6968180338541667, 0.4007975260416667, 0.32145182291666663, 0.10172526041666667, 0.056966145833333336, 0.056966145833333336, 0.018819173177083336]}\n"
     ]
    }
   ]
  },
  {
   "cell_type": "code",
   "source": [
    "import os\n",
    "\n",
    "os.listdir('Images')"
   ],
   "metadata": {
    "colab": {
     "base_uri": "https://localhost:8080/"
    },
    "id": "mgQmowrQKc1z",
    "outputId": "5a5536b1-becd-4435-89fc-acad45d6239a"
   },
   "execution_count": 14,
   "outputs": [
    {
     "data": {
      "text/plain": "['1.jpg', '2.jpg', '3.jpg']"
     },
     "execution_count": 14,
     "metadata": {},
     "output_type": "execute_result"
    }
   ]
  },
  {
   "cell_type": "code",
   "source": [
    "print(segmap)"
   ],
   "metadata": {
    "colab": {
     "base_uri": "https://localhost:8080/"
    },
    "id": "coDH6wwrLcCu",
    "outputId": "cc1b7a6b-d27d-46d4-c9a5-2efb7e77c3f2"
   },
   "execution_count": 15,
   "outputs": [
    {
     "name": "stdout",
     "output_type": "stream",
     "text": [
      "{'class_ids': [2, 3, 12, 13, 7, 21, 44, 88, 116, 94, 33, 139, 5, 137], 'class_names': ['building', 'sky', 'sidewalk', 'person', 'road', 'car', 'signboard', 'streetlight', 'bag', 'pole', 'fence', 'ashcan', 'tree', 'traffic'], 'class_colors': [array([180, 120, 120]), array([  6, 230, 230]), array([235, 255,   7]), array([150,   5,  61]), array([140, 140, 140]), array([  0, 102, 200]), array([255,   5, 153]), array([  0,  71, 255]), array([ 70, 184, 160]), array([ 51,   0, 255]), array([255, 184,   6]), array([173,   0, 255]), array([  4, 200,   3]), array([ 41,   0, 255])], 'masks': array([[False, False, False, ..., False, False, False],\n",
      "       [False, False, False, ..., False, False, False],\n",
      "       [False, False, False, ..., False, False, False],\n",
      "       ...,\n",
      "       [False, False, False, ..., False, False, False],\n",
      "       [False, False, False, ..., False, False, False],\n",
      "       [False, False, False, ..., False, False, False]]), 'ratios': [32.08363850911458, 27.05535888671875, 16.83197021484375, 8.675130208333332, 8.562723795572918, 2.988688151041667, 2.148946126302083, 0.6968180338541667, 0.4007975260416667, 0.32145182291666663, 0.10172526041666667, 0.056966145833333336, 0.056966145833333336, 0.018819173177083336]}\n"
     ]
    }
   ]
  },
  {
   "cell_type": "code",
   "execution_count": null,
   "outputs": [],
   "source": [],
   "metadata": {
    "collapsed": false,
    "pycharm": {
     "name": "#%%\n"
    }
   }
  }
 ]
}