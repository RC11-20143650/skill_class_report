{
 "nbformat": 4,
 "nbformat_minor": 0,
 "metadata": {
  "colab": {
   "name": "ObjectDetection1.ipynb",
   "provenance": [],
   "collapsed_sections": []
  },
  "kernelspec": {
   "name": "python3",
   "display_name": "Python 3"
  },
  "language_info": {
   "name": "python"
  }
 },
 "cells": [
  {
   "cell_type": "code",
   "execution_count": 5,
   "metadata": {
    "id": "ANiQooe77DfU",
    "colab": {
     "base_uri": "https://localhost:8080/",
     "height": 1000
    },
    "outputId": "a630bf0f-8ab1-497b-cbdb-8577fb80b26b"
   },
   "outputs": [
    {
     "name": "stdout",
     "output_type": "stream",
     "text": [
      "Collecting tensorflow==2.4.0\n",
      "  Downloading tensorflow-2.4.0-cp38-cp38-win_amd64.whl (370.7 MB)\n",
      "Requirement already satisfied: wheel~=0.35 in c:\\users\\qq809\\anaconda3\\lib\\site-packages (from tensorflow==2.4.0) (0.36.2)\n",
      "Collecting tensorflow-estimator<2.5.0,>=2.4.0rc0\n",
      "  Downloading tensorflow_estimator-2.4.0-py2.py3-none-any.whl (462 kB)\n",
      "Requirement already satisfied: six~=1.15.0 in c:\\users\\qq809\\anaconda3\\lib\\site-packages (from tensorflow==2.4.0) (1.15.0)\n",
      "Requirement already satisfied: protobuf>=3.9.2 in c:\\users\\qq809\\anaconda3\\lib\\site-packages (from tensorflow==2.4.0) (3.19.3)\n",
      "Collecting grpcio~=1.32.0\n",
      "  Downloading grpcio-1.32.0-cp38-cp38-win_amd64.whl (2.6 MB)\n",
      "Requirement already satisfied: termcolor~=1.1.0 in c:\\users\\qq809\\anaconda3\\lib\\site-packages (from tensorflow==2.4.0) (1.1.0)\n",
      "Requirement already satisfied: keras-preprocessing~=1.1.2 in c:\\users\\qq809\\anaconda3\\lib\\site-packages (from tensorflow==2.4.0) (1.1.2)\n",
      "Requirement already satisfied: wrapt~=1.12.1 in c:\\users\\qq809\\anaconda3\\lib\\site-packages (from tensorflow==2.4.0) (1.12.1)\n",
      "Collecting gast==0.3.3\n",
      "  Downloading gast-0.3.3-py2.py3-none-any.whl (9.7 kB)\n",
      "Requirement already satisfied: typing-extensions~=3.7.4 in c:\\users\\qq809\\anaconda3\\lib\\site-packages (from tensorflow==2.4.0) (3.7.4.3)\n",
      "Requirement already satisfied: astunparse~=1.6.3 in c:\\users\\qq809\\anaconda3\\lib\\site-packages (from tensorflow==2.4.0) (1.6.3)\n",
      "Requirement already satisfied: opt-einsum~=3.3.0 in c:\\users\\qq809\\anaconda3\\lib\\site-packages (from tensorflow==2.4.0) (3.3.0)\n",
      "Collecting flatbuffers~=1.12.0\n",
      "  Downloading flatbuffers-1.12-py2.py3-none-any.whl (15 kB)\n",
      "Collecting absl-py~=0.10\n",
      "  Downloading absl_py-0.15.0-py3-none-any.whl (132 kB)\n",
      "Collecting numpy~=1.19.2\n",
      "  Downloading numpy-1.19.5-cp38-cp38-win_amd64.whl (13.3 MB)\n",
      "Requirement already satisfied: tensorboard~=2.4 in c:\\users\\qq809\\anaconda3\\lib\\site-packages (from tensorflow==2.4.0) (2.8.0)\n",
      "Requirement already satisfied: h5py~=2.10.0 in c:\\users\\qq809\\anaconda3\\lib\\site-packages (from tensorflow==2.4.0) (2.10.0)\n",
      "Requirement already satisfied: google-pasta~=0.2 in c:\\users\\qq809\\anaconda3\\lib\\site-packages (from tensorflow==2.4.0) (0.2.0)\n",
      "Requirement already satisfied: google-auth-oauthlib<0.5,>=0.4.1 in c:\\users\\qq809\\anaconda3\\lib\\site-packages (from tensorboard~=2.4->tensorflow==2.4.0) (0.4.6)\n",
      "Requirement already satisfied: werkzeug>=0.11.15 in c:\\users\\qq809\\anaconda3\\lib\\site-packages (from tensorboard~=2.4->tensorflow==2.4.0) (1.0.1)\n",
      "Requirement already satisfied: markdown>=2.6.8 in c:\\users\\qq809\\anaconda3\\lib\\site-packages (from tensorboard~=2.4->tensorflow==2.4.0) (3.3.6)\n",
      "Requirement already satisfied: tensorboard-plugin-wit>=1.6.0 in c:\\users\\qq809\\anaconda3\\lib\\site-packages (from tensorboard~=2.4->tensorflow==2.4.0) (1.8.1)\n",
      "Requirement already satisfied: google-auth<3,>=1.6.3 in c:\\users\\qq809\\anaconda3\\lib\\site-packages (from tensorboard~=2.4->tensorflow==2.4.0) (2.3.3)\n",
      "Requirement already satisfied: setuptools>=41.0.0 in c:\\users\\qq809\\anaconda3\\lib\\site-packages (from tensorboard~=2.4->tensorflow==2.4.0) (52.0.0.post20210125)\n",
      "Requirement already satisfied: tensorboard-data-server<0.7.0,>=0.6.0 in c:\\users\\qq809\\anaconda3\\lib\\site-packages (from tensorboard~=2.4->tensorflow==2.4.0) (0.6.1)\n",
      "Requirement already satisfied: requests<3,>=2.21.0 in c:\\users\\qq809\\anaconda3\\lib\\site-packages (from tensorboard~=2.4->tensorflow==2.4.0) (2.25.1)\n",
      "Requirement already satisfied: pyasn1-modules>=0.2.1 in c:\\users\\qq809\\anaconda3\\lib\\site-packages (from google-auth<3,>=1.6.3->tensorboard~=2.4->tensorflow==2.4.0) (0.2.8)\n",
      "Requirement already satisfied: cachetools<5.0,>=2.0.0 in c:\\users\\qq809\\anaconda3\\lib\\site-packages (from google-auth<3,>=1.6.3->tensorboard~=2.4->tensorflow==2.4.0) (4.2.4)\n",
      "Requirement already satisfied: rsa<5,>=3.1.4 in c:\\users\\qq809\\anaconda3\\lib\\site-packages (from google-auth<3,>=1.6.3->tensorboard~=2.4->tensorflow==2.4.0) (4.8)\n",
      "Requirement already satisfied: requests-oauthlib>=0.7.0 in c:\\users\\qq809\\anaconda3\\lib\\site-packages (from google-auth-oauthlib<0.5,>=0.4.1->tensorboard~=2.4->tensorflow==2.4.0) (1.3.0)\n",
      "Requirement already satisfied: importlib-metadata>=4.4 in c:\\users\\qq809\\anaconda3\\lib\\site-packages (from markdown>=2.6.8->tensorboard~=2.4->tensorflow==2.4.0) (4.10.1)\n",
      "Requirement already satisfied: zipp>=0.5 in c:\\users\\qq809\\anaconda3\\lib\\site-packages (from importlib-metadata>=4.4->markdown>=2.6.8->tensorboard~=2.4->tensorflow==2.4.0) (3.4.1)\n",
      "Requirement already satisfied: pyasn1<0.5.0,>=0.4.6 in c:\\users\\qq809\\anaconda3\\lib\\site-packages (from pyasn1-modules>=0.2.1->google-auth<3,>=1.6.3->tensorboard~=2.4->tensorflow==2.4.0) (0.4.8)\n",
      "Requirement already satisfied: chardet<5,>=3.0.2 in c:\\users\\qq809\\anaconda3\\lib\\site-packages (from requests<3,>=2.21.0->tensorboard~=2.4->tensorflow==2.4.0) (4.0.0)\n",
      "Requirement already satisfied: urllib3<1.27,>=1.21.1 in c:\\users\\qq809\\anaconda3\\lib\\site-packages (from requests<3,>=2.21.0->tensorboard~=2.4->tensorflow==2.4.0) (1.26.4)\n",
      "Requirement already satisfied: idna<3,>=2.5 in c:\\users\\qq809\\anaconda3\\lib\\site-packages (from requests<3,>=2.21.0->tensorboard~=2.4->tensorflow==2.4.0) (2.10)\n",
      "Requirement already satisfied: certifi>=2017.4.17 in c:\\users\\qq809\\anaconda3\\lib\\site-packages (from requests<3,>=2.21.0->tensorboard~=2.4->tensorflow==2.4.0) (2021.10.8)\n",
      "Requirement already satisfied: oauthlib>=3.0.0 in c:\\users\\qq809\\anaconda3\\lib\\site-packages (from requests-oauthlib>=0.7.0->google-auth-oauthlib<0.5,>=0.4.1->tensorboard~=2.4->tensorflow==2.4.0) (3.1.1)\n",
      "Installing collected packages: numpy, grpcio, absl-py, tensorflow-estimator, gast, flatbuffers, tensorflow\n",
      "  Attempting uninstall: numpy\n",
      "    Found existing installation: numpy 1.20.1\n",
      "    Uninstalling numpy-1.20.1:\n",
      "      Successfully uninstalled numpy-1.20.1\n"
     ]
    },
    {
     "name": "stderr",
     "output_type": "stream",
     "text": [
      "ERROR: Could not install packages due to an OSError: [WinError 5] 拒绝访问。: 'C:\\\\Users\\\\qq809\\\\anaconda3\\\\Lib\\\\site-packages\\\\~umpy\\\\core\\\\_multiarray_tests.cp38-win_amd64.pyd'\n",
      "Consider using the `--user` option or check the permissions.\n",
      "\n"
     ]
    },
    {
     "name": "stdout",
     "output_type": "stream",
     "text": [
      "Collecting keras==2.4.2\n",
      "  Downloading Keras-2.4.2-py2.py3-none-any.whl (170 kB)\n",
      "Collecting numpy==1.19.3\n",
      "  Downloading numpy-1.19.3-cp38-cp38-win_amd64.whl (13.3 MB)\n",
      "Collecting pillow==7.0.0\n",
      "  Downloading Pillow-7.0.0-cp38-cp38-win_amd64.whl (2.0 MB)\n",
      "Collecting scipy==1.4.1\n",
      "  Downloading scipy-1.4.1-cp38-cp38-win_amd64.whl (31.0 MB)\n",
      "Requirement already satisfied: h5py==2.10.0 in c:\\users\\qq809\\anaconda3\\lib\\site-packages (2.10.0)\n",
      "Collecting matplotlib==3.3.2\n",
      "  Downloading matplotlib-3.3.2-cp38-cp38-win_amd64.whl (8.5 MB)\n",
      "Requirement already satisfied: opencv-python in c:\\users\\qq809\\anaconda3\\lib\\site-packages (4.5.5.64)\n",
      "Collecting keras-resnet==0.2.0\n",
      "  Using cached keras-resnet-0.2.0.tar.gz (9.3 kB)\n",
      "Requirement already satisfied: six in c:\\users\\qq809\\anaconda3\\lib\\site-packages (from h5py==2.10.0) (1.15.0)\n",
      "Requirement already satisfied: pyyaml in c:\\users\\qq809\\anaconda3\\lib\\site-packages (from keras==2.4.2) (5.4.1)\n",
      "Requirement already satisfied: certifi>=2020.06.20 in c:\\users\\qq809\\anaconda3\\lib\\site-packages (from matplotlib==3.3.2) (2021.10.8)\n",
      "Requirement already satisfied: cycler>=0.10 in c:\\users\\qq809\\anaconda3\\lib\\site-packages (from matplotlib==3.3.2) (0.10.0)\n",
      "Requirement already satisfied: python-dateutil>=2.1 in c:\\users\\qq809\\anaconda3\\lib\\site-packages (from matplotlib==3.3.2) (2.8.1)\n",
      "Requirement already satisfied: kiwisolver>=1.0.1 in c:\\users\\qq809\\anaconda3\\lib\\site-packages (from matplotlib==3.3.2) (1.3.1)\n",
      "Requirement already satisfied: pyparsing!=2.0.4,!=2.1.2,!=2.1.6,>=2.0.3 in c:\\users\\qq809\\anaconda3\\lib\\site-packages (from matplotlib==3.3.2) (2.4.7)\n",
      "Building wheels for collected packages: keras-resnet\n",
      "  Building wheel for keras-resnet (setup.py): started\n",
      "  Building wheel for keras-resnet (setup.py): finished with status 'done'\n",
      "  Created wheel for keras-resnet: filename=keras_resnet-0.2.0-py2.py3-none-any.whl size=20486 sha256=98a93ade3895012800d5d2a56dfc990232f45a5fef42a78c0020be2706a219a5\n",
      "  Stored in directory: c:\\users\\qq809\\appdata\\local\\pip\\cache\\wheels\\be\\90\\98\\9d455f04a7ca277366b36c660c89d171ff5abb7bdd8a8b8e75\n",
      "Successfully built keras-resnet\n",
      "Installing collected packages: numpy, scipy, pillow, keras, matplotlib, keras-resnet\n",
      "  Attempting uninstall: numpy\n",
      "    Found existing installation: numpy 1.19.5\n",
      "    Uninstalling numpy-1.19.5:\n",
      "      Successfully uninstalled numpy-1.19.5\n",
      "  Attempting uninstall: scipy\n",
      "    Found existing installation: scipy 1.6.2\n",
      "    Uninstalling scipy-1.6.2:\n",
      "      Successfully uninstalled scipy-1.6.2\n"
     ]
    },
    {
     "name": "stderr",
     "output_type": "stream",
     "text": [
      "ERROR: Could not install packages due to an OSError: [WinError 5] 拒绝访问。: 'C:\\\\Users\\\\qq809\\\\anaconda3\\\\Lib\\\\site-packages\\\\~cipy\\\\linalg\\\\cython_blas.cp38-win_amd64.pyd'\n",
      "Consider using the `--user` option or check the permissions.\n",
      "\n"
     ]
    }
   ],
   "source": [
    "# https://towardsdatascience.com/object-detection-with-10-lines-of-code-d6cb4d86f606\n",
    "\n",
    "!pip install tensorflow==2.4.0\n",
    "!pip install keras==2.4.2 numpy==1.19.3 pillow==7.0.0 scipy==1.4.1 h5py==2.10.0 matplotlib==3.3.2 opencv-python keras-resnet==0.2.0"
   ]
  },
  {
   "cell_type": "code",
   "source": [
    "!pip install imageai --upgrade"
   ],
   "metadata": {
    "colab": {
     "base_uri": "https://localhost:8080/",
     "height": 1000
    },
    "id": "_8O9q9CA9xdn",
    "outputId": "be4129b3-dd69-421e-ae69-6fc6cf17ebb4"
   },
   "execution_count": 12,
   "outputs": [
    {
     "name": "stdout",
     "output_type": "stream",
     "text": [
      "Collecting imageai\n",
      "  Using cached imageai-2.1.6-py3-none-any.whl (160 kB)\n",
      "Collecting keras==2.4.3\n",
      "  Using cached Keras-2.4.3-py2.py3-none-any.whl (36 kB)\n",
      "Requirement already satisfied: h5py==2.10.0 in c:\\users\\qq809\\anaconda3\\lib\\site-packages (from imageai) (2.10.0)\n",
      "Collecting keras-resnet==0.2.0\n",
      "  Using cached keras_resnet-0.2.0-py2.py3-none-any.whl\n",
      "Requirement already satisfied: opencv-python in c:\\users\\qq809\\anaconda3\\lib\\site-packages (from imageai) (4.5.5.64)\n",
      "Requirement already satisfied: numpy==1.19.3 in c:\\users\\qq809\\anaconda3\\lib\\site-packages (from imageai) (1.19.3)\n",
      "Collecting matplotlib==3.3.2\n",
      "  Using cached matplotlib-3.3.2-cp38-cp38-win_amd64.whl (8.5 MB)\n",
      "Requirement already satisfied: scipy==1.4.1 in c:\\users\\qq809\\anaconda3\\lib\\site-packages (from imageai) (1.4.1)\n",
      "Requirement already satisfied: pillow==7.0.0 in c:\\users\\qq809\\anaconda3\\lib\\site-packages (from imageai) (7.0.0)\n",
      "Requirement already satisfied: six in c:\\users\\qq809\\anaconda3\\lib\\site-packages (from h5py==2.10.0->imageai) (1.15.0)\n",
      "Requirement already satisfied: pyyaml in c:\\users\\qq809\\anaconda3\\lib\\site-packages (from keras==2.4.3->imageai) (5.4.1)\n",
      "Requirement already satisfied: cycler>=0.10 in c:\\users\\qq809\\anaconda3\\lib\\site-packages (from matplotlib==3.3.2->imageai) (0.10.0)\n",
      "Requirement already satisfied: certifi>=2020.06.20 in c:\\users\\qq809\\anaconda3\\lib\\site-packages (from matplotlib==3.3.2->imageai) (2021.10.8)\n",
      "Requirement already satisfied: pyparsing!=2.0.4,!=2.1.2,!=2.1.6,>=2.0.3 in c:\\users\\qq809\\anaconda3\\lib\\site-packages (from matplotlib==3.3.2->imageai) (2.4.7)\n",
      "Requirement already satisfied: kiwisolver>=1.0.1 in c:\\users\\qq809\\anaconda3\\lib\\site-packages (from matplotlib==3.3.2->imageai) (1.3.1)\n",
      "Requirement already satisfied: python-dateutil>=2.1 in c:\\users\\qq809\\anaconda3\\lib\\site-packages (from matplotlib==3.3.2->imageai) (2.8.1)\n",
      "Installing collected packages: keras, matplotlib, keras-resnet, imageai\n",
      "  Attempting uninstall: keras\n",
      "    Found existing installation: keras 2.7.0\n",
      "    Uninstalling keras-2.7.0:\n",
      "      Successfully uninstalled keras-2.7.0\n",
      "  Attempting uninstall: matplotlib\n",
      "    Found existing installation: matplotlib 3.5.1\n",
      "    Uninstalling matplotlib-3.5.1:\n",
      "      Successfully uninstalled matplotlib-3.5.1\n",
      "Successfully installed imageai-2.1.6 keras-2.4.3 keras-resnet-0.2.0 matplotlib-3.3.2\n"
     ]
    },
    {
     "name": "stderr",
     "output_type": "stream",
     "text": [
      "ERROR: pip's dependency resolver does not currently take into account all the packages that are installed. This behaviour is the source of the following dependency conflicts.\n",
      "tensorflow 2.7.0 requires keras<2.8,>=2.7.0rc0, but you have keras 2.4.3 which is incompatible.\n"
     ]
    }
   ]
  },
  {
   "cell_type": "code",
   "source": [
    "!pwd"
   ],
   "metadata": {
    "colab": {
     "base_uri": "https://localhost:8080/"
    },
    "id": "0xUmzN8W-sjd",
    "outputId": "cbc929d6-c6d5-4b21-ed6c-35c957369496"
   },
   "execution_count": 7,
   "outputs": [
    {
     "name": "stderr",
     "output_type": "stream",
     "text": [
      "'pwd' 不是内部或外部命令，也不是可运行的程序\n",
      "或批处理文件。\n"
     ]
    }
   ]
  },
  {
   "cell_type": "code",
   "source": [
    "import numpy as np \n",
    "print(np.__version__)"
   ],
   "metadata": {
    "colab": {
     "base_uri": "https://localhost:8080/"
    },
    "id": "YfF1D-IpC0Lb",
    "outputId": "79f55d2d-3fce-4a0a-fe81-3e1e7fb037c5"
   },
   "execution_count": 13,
   "outputs": [
    {
     "name": "stdout",
     "output_type": "stream",
     "text": [
      "1.20.1\n"
     ]
    }
   ]
  },
  {
   "cell_type": "code",
   "source": [
    "from imageai.Detection import ObjectDetection\n",
    "import os\n",
    "\n",
    "execution_path = os.getcwd()\n",
    "\n",
    "detector = ObjectDetection()\n",
    "detector.setModelTypeAsRetinaNet()\n",
    "detector.setModelPath( os.path.join(execution_path , \"resnet50_coco_best_v2.1.0.h5\"))\n",
    "detector.loadModel()\n",
    "detections = detector.detectObjectsFromImage(input_image=os.path.join(execution_path , \"sample_data/london.jpg\"), output_image_path=os.path.join(execution_path , \"imagenew.jpg\"))\n",
    "\n",
    "for eachObject in detections:\n",
    "    print(eachObject[\"name\"] , \" : \" , eachObject[\"percentage_probability\"] )"
   ],
   "metadata": {
    "colab": {
     "base_uri": "https://localhost:8080/"
    },
    "id": "NrGfSGyM-Hu6",
    "outputId": "16f74d8a-50b5-4792-8cbc-235b0a03343a"
   },
   "execution_count": 16,
   "outputs": [
    {
     "name": "stdout",
     "output_type": "stream",
     "text": [
      "WARNING:tensorflow:No training configuration found in the save file, so the model was *not* compiled. Compile it manually.\n",
      "clock  :  98.59925508499146\n",
      "person  :  91.62253737449646\n",
      "person  :  89.13758993148804\n",
      "person  :  87.94928789138794\n",
      "person  :  83.76274108886719\n",
      "car  :  83.74357223510742\n",
      "person  :  81.8328320980072\n",
      "person  :  77.21383571624756\n",
      "handbag  :  66.45899415016174\n",
      "bus  :  62.94975280761719\n",
      "truck  :  51.79016590118408\n",
      "car  :  51.78927183151245\n",
      "person  :  51.58476233482361\n",
      "person  :  50.8894681930542\n"
     ]
    }
   ]
  },
  {
   "cell_type": "code",
   "source": [
    "print(detections)"
   ],
   "metadata": {
    "colab": {
     "base_uri": "https://localhost:8080/"
    },
    "id": "kOFg4mVUDW8n",
    "outputId": "b6eb3670-7b04-4efb-b0f6-6ca7b79c7d36"
   },
   "execution_count": 17,
   "outputs": [
    {
     "name": "stdout",
     "output_type": "stream",
     "text": [
      "[{'name': 'clock', 'percentage_probability': 98.59925508499146, 'box_points': [265, 104, 294, 133]}, {'name': 'person', 'percentage_probability': 91.62253737449646, 'box_points': [302, 209, 406, 520]}, {'name': 'person', 'percentage_probability': 89.13758993148804, 'box_points': [517, 250, 597, 478]}, {'name': 'person', 'percentage_probability': 87.94928789138794, 'box_points': [396, 203, 477, 497]}, {'name': 'person', 'percentage_probability': 83.76274108886719, 'box_points': [229, 311, 255, 388]}, {'name': 'car', 'percentage_probability': 83.74357223510742, 'box_points': [581, 326, 667, 379]}, {'name': 'person', 'percentage_probability': 81.8328320980072, 'box_points': [452, 253, 527, 482]}, {'name': 'person', 'percentage_probability': 77.21383571624756, 'box_points': [125, 314, 144, 365]}, {'name': 'handbag', 'percentage_probability': 66.45899415016174, 'box_points': [547, 299, 604, 377]}, {'name': 'bus', 'percentage_probability': 62.94975280761719, 'box_points': [155, 294, 238, 353]}, {'name': 'truck', 'percentage_probability': 51.79016590118408, 'box_points': [218, 303, 294, 358]}, {'name': 'car', 'percentage_probability': 51.78927183151245, 'box_points': [103, 320, 146, 349]}, {'name': 'person', 'percentage_probability': 51.58476233482361, 'box_points': [12, 316, 23, 345]}, {'name': 'person', 'percentage_probability': 50.8894681930542, 'box_points': [33, 320, 44, 346]}]\n"
     ]
    }
   ]
  },
  {
   "cell_type": "code",
   "execution_count": null,
   "outputs": [],
   "source": [],
   "metadata": {
    "collapsed": false,
    "pycharm": {
     "name": "#%%\n"
    }
   }
  }
 ]
}